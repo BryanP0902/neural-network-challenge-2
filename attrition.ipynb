{
 "cells": [
  {
   "cell_type": "markdown",
   "metadata": {
    "id": "alIIEHibGc3M"
   },
   "source": [
    "## Part 1: Preprocessing"
   ]
  },
  {
   "cell_type": "code",
   "execution_count": 15,
   "metadata": {
    "colab": {
     "base_uri": "https://localhost:8080/",
     "height": 325
    },
    "executionInfo": {
     "elapsed": 12323,
     "status": "ok",
     "timestamp": 1730699226906,
     "user": {
      "displayName": "Alexander Booth",
      "userId": "02269714993535573104"
     },
     "user_tz": 360
    },
    "id": "6eDUJ4NtGc3P",
    "outputId": "eeae54b5-3d17-442d-94ba-00dd55b89964"
   },
   "outputs": [
    {
     "data": {
      "text/html": [
       "<div>\n",
       "<style scoped>\n",
       "    .dataframe tbody tr th:only-of-type {\n",
       "        vertical-align: middle;\n",
       "    }\n",
       "\n",
       "    .dataframe tbody tr th {\n",
       "        vertical-align: top;\n",
       "    }\n",
       "\n",
       "    .dataframe thead th {\n",
       "        text-align: right;\n",
       "    }\n",
       "</style>\n",
       "<table border=\"1\" class=\"dataframe\">\n",
       "  <thead>\n",
       "    <tr style=\"text-align: right;\">\n",
       "      <th></th>\n",
       "      <th>Age</th>\n",
       "      <th>Attrition</th>\n",
       "      <th>BusinessTravel</th>\n",
       "      <th>Department</th>\n",
       "      <th>DistanceFromHome</th>\n",
       "      <th>Education</th>\n",
       "      <th>EducationField</th>\n",
       "      <th>EnvironmentSatisfaction</th>\n",
       "      <th>HourlyRate</th>\n",
       "      <th>JobInvolvement</th>\n",
       "      <th>...</th>\n",
       "      <th>PerformanceRating</th>\n",
       "      <th>RelationshipSatisfaction</th>\n",
       "      <th>StockOptionLevel</th>\n",
       "      <th>TotalWorkingYears</th>\n",
       "      <th>TrainingTimesLastYear</th>\n",
       "      <th>WorkLifeBalance</th>\n",
       "      <th>YearsAtCompany</th>\n",
       "      <th>YearsInCurrentRole</th>\n",
       "      <th>YearsSinceLastPromotion</th>\n",
       "      <th>YearsWithCurrManager</th>\n",
       "    </tr>\n",
       "  </thead>\n",
       "  <tbody>\n",
       "    <tr>\n",
       "      <th>0</th>\n",
       "      <td>41</td>\n",
       "      <td>Yes</td>\n",
       "      <td>Travel_Rarely</td>\n",
       "      <td>Sales</td>\n",
       "      <td>1</td>\n",
       "      <td>2</td>\n",
       "      <td>Life Sciences</td>\n",
       "      <td>2</td>\n",
       "      <td>94</td>\n",
       "      <td>3</td>\n",
       "      <td>...</td>\n",
       "      <td>3</td>\n",
       "      <td>1</td>\n",
       "      <td>0</td>\n",
       "      <td>8</td>\n",
       "      <td>0</td>\n",
       "      <td>1</td>\n",
       "      <td>6</td>\n",
       "      <td>4</td>\n",
       "      <td>0</td>\n",
       "      <td>5</td>\n",
       "    </tr>\n",
       "    <tr>\n",
       "      <th>1</th>\n",
       "      <td>49</td>\n",
       "      <td>No</td>\n",
       "      <td>Travel_Frequently</td>\n",
       "      <td>Research &amp; Development</td>\n",
       "      <td>8</td>\n",
       "      <td>1</td>\n",
       "      <td>Life Sciences</td>\n",
       "      <td>3</td>\n",
       "      <td>61</td>\n",
       "      <td>2</td>\n",
       "      <td>...</td>\n",
       "      <td>4</td>\n",
       "      <td>4</td>\n",
       "      <td>1</td>\n",
       "      <td>10</td>\n",
       "      <td>3</td>\n",
       "      <td>3</td>\n",
       "      <td>10</td>\n",
       "      <td>7</td>\n",
       "      <td>1</td>\n",
       "      <td>7</td>\n",
       "    </tr>\n",
       "    <tr>\n",
       "      <th>2</th>\n",
       "      <td>37</td>\n",
       "      <td>Yes</td>\n",
       "      <td>Travel_Rarely</td>\n",
       "      <td>Research &amp; Development</td>\n",
       "      <td>2</td>\n",
       "      <td>2</td>\n",
       "      <td>Other</td>\n",
       "      <td>4</td>\n",
       "      <td>92</td>\n",
       "      <td>2</td>\n",
       "      <td>...</td>\n",
       "      <td>3</td>\n",
       "      <td>2</td>\n",
       "      <td>0</td>\n",
       "      <td>7</td>\n",
       "      <td>3</td>\n",
       "      <td>3</td>\n",
       "      <td>0</td>\n",
       "      <td>0</td>\n",
       "      <td>0</td>\n",
       "      <td>0</td>\n",
       "    </tr>\n",
       "    <tr>\n",
       "      <th>3</th>\n",
       "      <td>33</td>\n",
       "      <td>No</td>\n",
       "      <td>Travel_Frequently</td>\n",
       "      <td>Research &amp; Development</td>\n",
       "      <td>3</td>\n",
       "      <td>4</td>\n",
       "      <td>Life Sciences</td>\n",
       "      <td>4</td>\n",
       "      <td>56</td>\n",
       "      <td>3</td>\n",
       "      <td>...</td>\n",
       "      <td>3</td>\n",
       "      <td>3</td>\n",
       "      <td>0</td>\n",
       "      <td>8</td>\n",
       "      <td>3</td>\n",
       "      <td>3</td>\n",
       "      <td>8</td>\n",
       "      <td>7</td>\n",
       "      <td>3</td>\n",
       "      <td>0</td>\n",
       "    </tr>\n",
       "    <tr>\n",
       "      <th>4</th>\n",
       "      <td>27</td>\n",
       "      <td>No</td>\n",
       "      <td>Travel_Rarely</td>\n",
       "      <td>Research &amp; Development</td>\n",
       "      <td>2</td>\n",
       "      <td>1</td>\n",
       "      <td>Medical</td>\n",
       "      <td>1</td>\n",
       "      <td>40</td>\n",
       "      <td>3</td>\n",
       "      <td>...</td>\n",
       "      <td>3</td>\n",
       "      <td>4</td>\n",
       "      <td>1</td>\n",
       "      <td>6</td>\n",
       "      <td>3</td>\n",
       "      <td>3</td>\n",
       "      <td>2</td>\n",
       "      <td>2</td>\n",
       "      <td>2</td>\n",
       "      <td>2</td>\n",
       "    </tr>\n",
       "  </tbody>\n",
       "</table>\n",
       "<p>5 rows × 27 columns</p>\n",
       "</div>"
      ],
      "text/plain": [
       "   Age Attrition     BusinessTravel              Department  DistanceFromHome  \\\n",
       "0   41       Yes      Travel_Rarely                   Sales                 1   \n",
       "1   49        No  Travel_Frequently  Research & Development                 8   \n",
       "2   37       Yes      Travel_Rarely  Research & Development                 2   \n",
       "3   33        No  Travel_Frequently  Research & Development                 3   \n",
       "4   27        No      Travel_Rarely  Research & Development                 2   \n",
       "\n",
       "   Education EducationField  EnvironmentSatisfaction  HourlyRate  \\\n",
       "0          2  Life Sciences                        2          94   \n",
       "1          1  Life Sciences                        3          61   \n",
       "2          2          Other                        4          92   \n",
       "3          4  Life Sciences                        4          56   \n",
       "4          1        Medical                        1          40   \n",
       "\n",
       "   JobInvolvement  ...  PerformanceRating RelationshipSatisfaction  \\\n",
       "0               3  ...                  3                        1   \n",
       "1               2  ...                  4                        4   \n",
       "2               2  ...                  3                        2   \n",
       "3               3  ...                  3                        3   \n",
       "4               3  ...                  3                        4   \n",
       "\n",
       "   StockOptionLevel TotalWorkingYears  TrainingTimesLastYear WorkLifeBalance  \\\n",
       "0                 0                 8                      0               1   \n",
       "1                 1                10                      3               3   \n",
       "2                 0                 7                      3               3   \n",
       "3                 0                 8                      3               3   \n",
       "4                 1                 6                      3               3   \n",
       "\n",
       "   YearsAtCompany  YearsInCurrentRole  YearsSinceLastPromotion  \\\n",
       "0               6                   4                        0   \n",
       "1              10                   7                        1   \n",
       "2               0                   0                        0   \n",
       "3               8                   7                        3   \n",
       "4               2                   2                        2   \n",
       "\n",
       "   YearsWithCurrManager  \n",
       "0                     5  \n",
       "1                     7  \n",
       "2                     0  \n",
       "3                     0  \n",
       "4                     2  \n",
       "\n",
       "[5 rows x 27 columns]"
      ]
     },
     "execution_count": 15,
     "metadata": {},
     "output_type": "execute_result"
    }
   ],
   "source": [
    "# Import our dependencies\n",
    "from sklearn.model_selection import train_test_split\n",
    "from sklearn.preprocessing import StandardScaler\n",
    "import pandas as pd\n",
    "import numpy as np\n",
    "from tensorflow.keras.models import Model\n",
    "from tensorflow.keras import layers\n",
    "\n",
    "#  Import and read the attrition data\n",
    "attrition_df = pd.read_csv('https://static.bc-edx.com/ai/ail-v-1-0/m19/lms/datasets/attrition.csv')\n",
    "attrition_df.head()"
   ]
  },
  {
   "cell_type": "code",
   "execution_count": 16,
   "metadata": {
    "colab": {
     "base_uri": "https://localhost:8080/",
     "height": 930
    },
    "executionInfo": {
     "elapsed": 10,
     "status": "ok",
     "timestamp": 1730699226906,
     "user": {
      "displayName": "Alexander Booth",
      "userId": "02269714993535573104"
     },
     "user_tz": 360
    },
    "id": "g22aQSY4Gc3Q",
    "outputId": "e8b68509-45d8-42e0-a9db-1bdce48e4b2d"
   },
   "outputs": [
    {
     "data": {
      "text/plain": [
       "Age                         43\n",
       "Attrition                    2\n",
       "BusinessTravel               3\n",
       "Department                   3\n",
       "DistanceFromHome            29\n",
       "Education                    5\n",
       "EducationField               6\n",
       "EnvironmentSatisfaction      4\n",
       "HourlyRate                  71\n",
       "JobInvolvement               4\n",
       "JobLevel                     5\n",
       "JobRole                      9\n",
       "JobSatisfaction              4\n",
       "MaritalStatus                3\n",
       "NumCompaniesWorked          10\n",
       "OverTime                     2\n",
       "PercentSalaryHike           15\n",
       "PerformanceRating            2\n",
       "RelationshipSatisfaction     4\n",
       "StockOptionLevel             4\n",
       "TotalWorkingYears           40\n",
       "TrainingTimesLastYear        7\n",
       "WorkLifeBalance              4\n",
       "YearsAtCompany              37\n",
       "YearsInCurrentRole          19\n",
       "YearsSinceLastPromotion     16\n",
       "YearsWithCurrManager        18\n",
       "dtype: int64"
      ]
     },
     "execution_count": 16,
     "metadata": {},
     "output_type": "execute_result"
    }
   ],
   "source": [
    "# Determine the number of unique values in each column\n",
    "attrition_df.nunique()"
   ]
  },
  {
   "cell_type": "code",
   "execution_count": 17,
   "metadata": {
    "executionInfo": {
     "elapsed": 7,
     "status": "ok",
     "timestamp": 1730699226906,
     "user": {
      "displayName": "Alexander Booth",
      "userId": "02269714993535573104"
     },
     "user_tz": 360
    },
    "id": "50vMgBEnJbfM"
   },
   "outputs": [
    {
     "data": {
      "text/html": [
       "<div>\n",
       "<style scoped>\n",
       "    .dataframe tbody tr th:only-of-type {\n",
       "        vertical-align: middle;\n",
       "    }\n",
       "\n",
       "    .dataframe tbody tr th {\n",
       "        vertical-align: top;\n",
       "    }\n",
       "\n",
       "    .dataframe thead th {\n",
       "        text-align: right;\n",
       "    }\n",
       "</style>\n",
       "<table border=\"1\" class=\"dataframe\">\n",
       "  <thead>\n",
       "    <tr style=\"text-align: right;\">\n",
       "      <th></th>\n",
       "      <th>Attrition</th>\n",
       "      <th>Department</th>\n",
       "    </tr>\n",
       "  </thead>\n",
       "  <tbody>\n",
       "    <tr>\n",
       "      <th>0</th>\n",
       "      <td>Yes</td>\n",
       "      <td>Sales</td>\n",
       "    </tr>\n",
       "    <tr>\n",
       "      <th>1</th>\n",
       "      <td>No</td>\n",
       "      <td>Research &amp; Development</td>\n",
       "    </tr>\n",
       "    <tr>\n",
       "      <th>2</th>\n",
       "      <td>Yes</td>\n",
       "      <td>Research &amp; Development</td>\n",
       "    </tr>\n",
       "    <tr>\n",
       "      <th>3</th>\n",
       "      <td>No</td>\n",
       "      <td>Research &amp; Development</td>\n",
       "    </tr>\n",
       "    <tr>\n",
       "      <th>4</th>\n",
       "      <td>No</td>\n",
       "      <td>Research &amp; Development</td>\n",
       "    </tr>\n",
       "  </tbody>\n",
       "</table>\n",
       "</div>"
      ],
      "text/plain": [
       "  Attrition              Department\n",
       "0       Yes                   Sales\n",
       "1        No  Research & Development\n",
       "2       Yes  Research & Development\n",
       "3        No  Research & Development\n",
       "4        No  Research & Development"
      ]
     },
     "execution_count": 17,
     "metadata": {},
     "output_type": "execute_result"
    }
   ],
   "source": [
    "# Create y_df with the Attrition and Department columns\n",
    "y_df = attrition_df[['Attrition', 'Department']]\n",
    "y_df.head()"
   ]
  },
  {
   "cell_type": "code",
   "execution_count": 18,
   "metadata": {
    "colab": {
     "base_uri": "https://localhost:8080/",
     "height": 397
    },
    "executionInfo": {
     "elapsed": 125,
     "status": "ok",
     "timestamp": 1730699227025,
     "user": {
      "displayName": "Alexander Booth",
      "userId": "02269714993535573104"
     },
     "user_tz": 360
    },
    "id": "Virka0zLGc3R",
    "outputId": "24f181c9-7e2e-42cb-94e8-a75842f1ab01"
   },
   "outputs": [
    {
     "data": {
      "text/plain": [
       "Age                        int64\n",
       "DistanceFromHome           int64\n",
       "Education                  int64\n",
       "EnvironmentSatisfaction    int64\n",
       "HourlyRate                 int64\n",
       "JobSatisfaction            int64\n",
       "PerformanceRating          int64\n",
       "WorkLifeBalance            int64\n",
       "YearsAtCompany             int64\n",
       "YearsSinceLastPromotion    int64\n",
       "dtype: object"
      ]
     },
     "execution_count": 18,
     "metadata": {},
     "output_type": "execute_result"
    }
   ],
   "source": [
    "# Create a list of at least 10 column names to use as X data\n",
    "X_columns = ['Age',\n",
    "             'DistanceFromHome',\n",
    "             'Education',              \n",
    "             'EnvironmentSatisfaction',\n",
    "             'HourlyRate',\n",
    "             'JobSatisfaction',              \n",
    "             'PerformanceRating',\n",
    "             'WorkLifeBalance',\n",
    "             'YearsAtCompany',\n",
    "             'YearsSinceLastPromotion',\n",
    "             ]\n",
    "\n",
    "# Create X_df using your selected columns\n",
    "X_df = attrition_df[X_columns]\n",
    "\n",
    "# Show the data types for X_df\n",
    "X_df.dtypes"
   ]
  },
  {
   "cell_type": "code",
   "execution_count": 21,
   "metadata": {
    "executionInfo": {
     "elapsed": 9,
     "status": "ok",
     "timestamp": 1730699227025,
     "user": {
      "displayName": "Alexander Booth",
      "userId": "02269714993535573104"
     },
     "user_tz": 360
    },
    "id": "KaJfdOGUMHMR"
   },
   "outputs": [],
   "source": [
    "# Split the data into training and testing sets\n",
    "from sklearn.model_selection import train_test_split\n",
    "X_train, X_test, y_train, y_test = train_test_split(X_df, y_df, random_state = 38)\n"
   ]
  },
  {
   "cell_type": "code",
   "execution_count": 22,
   "metadata": {
    "colab": {
     "base_uri": "https://localhost:8080/",
     "height": 178
    },
    "executionInfo": {
     "elapsed": 8,
     "status": "ok",
     "timestamp": 1730699227025,
     "user": {
      "displayName": "Alexander Booth",
      "userId": "02269714993535573104"
     },
     "user_tz": 360
    },
    "id": "NYubUJqiLCSp",
    "outputId": "6116187c-4afa-4d4a-aeb9-fdc2131d0d58"
   },
   "outputs": [],
   "source": [
    "# Convert your X data to numeric data types however you see fit\n",
    "# Add new code cells as necessary\n",
    "# I chose all numeric columns for simplicity"
   ]
  },
  {
   "cell_type": "code",
   "execution_count": 23,
   "metadata": {
    "executionInfo": {
     "elapsed": 6,
     "status": "ok",
     "timestamp": 1730699227162,
     "user": {
      "displayName": "Alexander Booth",
      "userId": "02269714993535573104"
     },
     "user_tz": 360
    },
    "id": "EWA-aIA5Gc3T"
   },
   "outputs": [],
   "source": [
    "# Create a StandardScaler\n",
    "X_scaler = StandardScaler()\n",
    "\n",
    "# Fit the StandardScaler to the training data\n",
    "X_scaler.fit(X_train)\n",
    "\n",
    "# Scale the training and testing data\n",
    "X_train_scaled = X_scaler.transform(X_train)\n",
    "X_test_scaled = X_scaler.transform(X_test)"
   ]
  },
  {
   "cell_type": "code",
   "execution_count": 25,
   "metadata": {
    "colab": {
     "base_uri": "https://localhost:8080/"
    },
    "executionInfo": {
     "elapsed": 99,
     "status": "ok",
     "timestamp": 1730699227256,
     "user": {
      "displayName": "Alexander Booth",
      "userId": "02269714993535573104"
     },
     "user_tz": 360
    },
    "id": "-z0Mky8vQSz4",
    "outputId": "5024d63f-7e4e-4a91-fb76-0b2c79c1bcfb"
   },
   "outputs": [
    {
     "data": {
      "text/plain": [
       "array([[0., 1., 0.],\n",
       "       [0., 1., 0.],\n",
       "       [0., 1., 0.],\n",
       "       ...,\n",
       "       [0., 1., 0.],\n",
       "       [0., 1., 0.],\n",
       "       [0., 0., 1.]])"
      ]
     },
     "execution_count": 25,
     "metadata": {},
     "output_type": "execute_result"
    }
   ],
   "source": [
    "from sklearn.preprocessing import OneHotEncoder\n",
    "\n",
    "# Create a OneHotEncoder for the Department column\n",
    "department_encoder = OneHotEncoder(sparse_output=False, drop=None)\n",
    "\n",
    "# Fit the encoder to the training data\n",
    "department_encoder.fit(y_train[['Department']])\n",
    "\n",
    "# Create two new variables by applying the encoder\n",
    "# to the training and testing data\n",
    "y_train_encoded_dept = department_encoder.transform(y_train[['Department']])\n",
    "y_test_encoded_dept = department_encoder.transform(y_test[['Department']])\n",
    "\n",
    "y_train_encoded_dept\n",
    "y_test_encoded_dept"
   ]
  },
  {
   "cell_type": "code",
   "execution_count": 27,
   "metadata": {
    "colab": {
     "base_uri": "https://localhost:8080/"
    },
    "executionInfo": {
     "elapsed": 5,
     "status": "ok",
     "timestamp": 1730699227257,
     "user": {
      "displayName": "Alexander Booth",
      "userId": "02269714993535573104"
     },
     "user_tz": 360
    },
    "id": "-G4DSpvFRrk4",
    "outputId": "1821049e-a4f0-437f-b8a7-e415431fbdb0"
   },
   "outputs": [
    {
     "data": {
      "text/plain": [
       "array([[0., 1.],\n",
       "       [1., 0.],\n",
       "       [1., 0.],\n",
       "       [1., 0.],\n",
       "       [1., 0.],\n",
       "       [0., 1.],\n",
       "       [1., 0.],\n",
       "       [1., 0.],\n",
       "       [0., 1.],\n",
       "       [1., 0.],\n",
       "       [1., 0.],\n",
       "       [1., 0.],\n",
       "       [1., 0.],\n",
       "       [1., 0.],\n",
       "       [1., 0.],\n",
       "       [1., 0.],\n",
       "       [1., 0.],\n",
       "       [1., 0.],\n",
       "       [1., 0.],\n",
       "       [1., 0.],\n",
       "       [1., 0.],\n",
       "       [1., 0.],\n",
       "       [0., 1.],\n",
       "       [1., 0.],\n",
       "       [1., 0.],\n",
       "       [1., 0.],\n",
       "       [0., 1.],\n",
       "       [0., 1.],\n",
       "       [0., 1.],\n",
       "       [1., 0.],\n",
       "       [1., 0.],\n",
       "       [1., 0.],\n",
       "       [1., 0.],\n",
       "       [1., 0.],\n",
       "       [1., 0.],\n",
       "       [1., 0.],\n",
       "       [0., 1.],\n",
       "       [1., 0.],\n",
       "       [1., 0.],\n",
       "       [1., 0.],\n",
       "       [0., 1.],\n",
       "       [1., 0.],\n",
       "       [1., 0.],\n",
       "       [1., 0.],\n",
       "       [1., 0.],\n",
       "       [1., 0.],\n",
       "       [0., 1.],\n",
       "       [1., 0.],\n",
       "       [1., 0.],\n",
       "       [1., 0.],\n",
       "       [1., 0.],\n",
       "       [1., 0.],\n",
       "       [1., 0.],\n",
       "       [0., 1.],\n",
       "       [1., 0.],\n",
       "       [1., 0.],\n",
       "       [1., 0.],\n",
       "       [1., 0.],\n",
       "       [1., 0.],\n",
       "       [1., 0.],\n",
       "       [1., 0.],\n",
       "       [1., 0.],\n",
       "       [1., 0.],\n",
       "       [1., 0.],\n",
       "       [1., 0.],\n",
       "       [1., 0.],\n",
       "       [1., 0.],\n",
       "       [1., 0.],\n",
       "       [1., 0.],\n",
       "       [1., 0.],\n",
       "       [1., 0.],\n",
       "       [1., 0.],\n",
       "       [1., 0.],\n",
       "       [1., 0.],\n",
       "       [1., 0.],\n",
       "       [1., 0.],\n",
       "       [1., 0.],\n",
       "       [1., 0.],\n",
       "       [1., 0.],\n",
       "       [1., 0.],\n",
       "       [1., 0.],\n",
       "       [0., 1.],\n",
       "       [1., 0.],\n",
       "       [1., 0.],\n",
       "       [1., 0.],\n",
       "       [1., 0.],\n",
       "       [1., 0.],\n",
       "       [1., 0.],\n",
       "       [0., 1.],\n",
       "       [1., 0.],\n",
       "       [1., 0.],\n",
       "       [1., 0.],\n",
       "       [1., 0.],\n",
       "       [0., 1.],\n",
       "       [1., 0.],\n",
       "       [1., 0.],\n",
       "       [1., 0.],\n",
       "       [1., 0.],\n",
       "       [1., 0.],\n",
       "       [1., 0.],\n",
       "       [1., 0.],\n",
       "       [1., 0.],\n",
       "       [1., 0.],\n",
       "       [1., 0.],\n",
       "       [1., 0.],\n",
       "       [1., 0.],\n",
       "       [1., 0.],\n",
       "       [1., 0.],\n",
       "       [1., 0.],\n",
       "       [0., 1.],\n",
       "       [1., 0.],\n",
       "       [1., 0.],\n",
       "       [1., 0.],\n",
       "       [1., 0.],\n",
       "       [0., 1.],\n",
       "       [0., 1.],\n",
       "       [0., 1.],\n",
       "       [1., 0.],\n",
       "       [1., 0.],\n",
       "       [1., 0.],\n",
       "       [1., 0.],\n",
       "       [1., 0.],\n",
       "       [1., 0.],\n",
       "       [1., 0.],\n",
       "       [1., 0.],\n",
       "       [1., 0.],\n",
       "       [0., 1.],\n",
       "       [1., 0.],\n",
       "       [1., 0.],\n",
       "       [0., 1.],\n",
       "       [1., 0.],\n",
       "       [1., 0.],\n",
       "       [1., 0.],\n",
       "       [1., 0.],\n",
       "       [1., 0.],\n",
       "       [1., 0.],\n",
       "       [1., 0.],\n",
       "       [1., 0.],\n",
       "       [1., 0.],\n",
       "       [1., 0.],\n",
       "       [1., 0.],\n",
       "       [1., 0.],\n",
       "       [1., 0.],\n",
       "       [1., 0.],\n",
       "       [1., 0.],\n",
       "       [0., 1.],\n",
       "       [1., 0.],\n",
       "       [0., 1.],\n",
       "       [1., 0.],\n",
       "       [1., 0.],\n",
       "       [1., 0.],\n",
       "       [1., 0.],\n",
       "       [0., 1.],\n",
       "       [1., 0.],\n",
       "       [1., 0.],\n",
       "       [1., 0.],\n",
       "       [1., 0.],\n",
       "       [1., 0.],\n",
       "       [1., 0.],\n",
       "       [1., 0.],\n",
       "       [1., 0.],\n",
       "       [1., 0.],\n",
       "       [0., 1.],\n",
       "       [1., 0.],\n",
       "       [0., 1.],\n",
       "       [1., 0.],\n",
       "       [1., 0.],\n",
       "       [1., 0.],\n",
       "       [1., 0.],\n",
       "       [1., 0.],\n",
       "       [1., 0.],\n",
       "       [1., 0.],\n",
       "       [1., 0.],\n",
       "       [1., 0.],\n",
       "       [1., 0.],\n",
       "       [0., 1.],\n",
       "       [1., 0.],\n",
       "       [1., 0.],\n",
       "       [1., 0.],\n",
       "       [1., 0.],\n",
       "       [1., 0.],\n",
       "       [1., 0.],\n",
       "       [1., 0.],\n",
       "       [1., 0.],\n",
       "       [1., 0.],\n",
       "       [1., 0.],\n",
       "       [1., 0.],\n",
       "       [1., 0.],\n",
       "       [1., 0.],\n",
       "       [1., 0.],\n",
       "       [1., 0.],\n",
       "       [1., 0.],\n",
       "       [1., 0.],\n",
       "       [1., 0.],\n",
       "       [0., 1.],\n",
       "       [1., 0.],\n",
       "       [0., 1.],\n",
       "       [0., 1.],\n",
       "       [1., 0.],\n",
       "       [1., 0.],\n",
       "       [0., 1.],\n",
       "       [1., 0.],\n",
       "       [1., 0.],\n",
       "       [0., 1.],\n",
       "       [1., 0.],\n",
       "       [1., 0.],\n",
       "       [1., 0.],\n",
       "       [0., 1.],\n",
       "       [1., 0.],\n",
       "       [1., 0.],\n",
       "       [1., 0.],\n",
       "       [1., 0.],\n",
       "       [1., 0.],\n",
       "       [1., 0.],\n",
       "       [1., 0.],\n",
       "       [0., 1.],\n",
       "       [1., 0.],\n",
       "       [1., 0.],\n",
       "       [1., 0.],\n",
       "       [1., 0.],\n",
       "       [1., 0.],\n",
       "       [1., 0.],\n",
       "       [0., 1.],\n",
       "       [1., 0.],\n",
       "       [0., 1.],\n",
       "       [0., 1.],\n",
       "       [1., 0.],\n",
       "       [1., 0.],\n",
       "       [0., 1.],\n",
       "       [1., 0.],\n",
       "       [0., 1.],\n",
       "       [1., 0.],\n",
       "       [1., 0.],\n",
       "       [1., 0.],\n",
       "       [1., 0.],\n",
       "       [1., 0.],\n",
       "       [0., 1.],\n",
       "       [1., 0.],\n",
       "       [1., 0.],\n",
       "       [0., 1.],\n",
       "       [1., 0.],\n",
       "       [1., 0.],\n",
       "       [1., 0.],\n",
       "       [1., 0.],\n",
       "       [1., 0.],\n",
       "       [1., 0.],\n",
       "       [1., 0.],\n",
       "       [1., 0.],\n",
       "       [1., 0.],\n",
       "       [1., 0.],\n",
       "       [1., 0.],\n",
       "       [1., 0.],\n",
       "       [1., 0.],\n",
       "       [1., 0.],\n",
       "       [1., 0.],\n",
       "       [0., 1.],\n",
       "       [1., 0.],\n",
       "       [1., 0.],\n",
       "       [1., 0.],\n",
       "       [1., 0.],\n",
       "       [1., 0.],\n",
       "       [1., 0.],\n",
       "       [1., 0.],\n",
       "       [0., 1.],\n",
       "       [0., 1.],\n",
       "       [0., 1.],\n",
       "       [1., 0.],\n",
       "       [1., 0.],\n",
       "       [1., 0.],\n",
       "       [1., 0.],\n",
       "       [0., 1.],\n",
       "       [0., 1.],\n",
       "       [1., 0.],\n",
       "       [1., 0.],\n",
       "       [1., 0.],\n",
       "       [1., 0.],\n",
       "       [1., 0.],\n",
       "       [1., 0.],\n",
       "       [1., 0.],\n",
       "       [1., 0.],\n",
       "       [0., 1.],\n",
       "       [1., 0.],\n",
       "       [1., 0.],\n",
       "       [1., 0.],\n",
       "       [1., 0.],\n",
       "       [0., 1.],\n",
       "       [1., 0.],\n",
       "       [1., 0.],\n",
       "       [1., 0.],\n",
       "       [1., 0.],\n",
       "       [1., 0.],\n",
       "       [1., 0.],\n",
       "       [1., 0.],\n",
       "       [1., 0.],\n",
       "       [1., 0.],\n",
       "       [1., 0.],\n",
       "       [1., 0.],\n",
       "       [1., 0.],\n",
       "       [1., 0.],\n",
       "       [1., 0.],\n",
       "       [1., 0.],\n",
       "       [1., 0.],\n",
       "       [1., 0.],\n",
       "       [1., 0.],\n",
       "       [1., 0.],\n",
       "       [1., 0.],\n",
       "       [1., 0.],\n",
       "       [1., 0.],\n",
       "       [1., 0.],\n",
       "       [1., 0.],\n",
       "       [1., 0.],\n",
       "       [1., 0.],\n",
       "       [1., 0.],\n",
       "       [0., 1.],\n",
       "       [1., 0.],\n",
       "       [1., 0.],\n",
       "       [1., 0.],\n",
       "       [1., 0.],\n",
       "       [1., 0.],\n",
       "       [0., 1.],\n",
       "       [1., 0.],\n",
       "       [1., 0.],\n",
       "       [1., 0.],\n",
       "       [1., 0.],\n",
       "       [1., 0.],\n",
       "       [1., 0.],\n",
       "       [0., 1.],\n",
       "       [0., 1.],\n",
       "       [1., 0.],\n",
       "       [1., 0.],\n",
       "       [1., 0.],\n",
       "       [1., 0.],\n",
       "       [0., 1.],\n",
       "       [1., 0.],\n",
       "       [0., 1.],\n",
       "       [1., 0.],\n",
       "       [1., 0.],\n",
       "       [1., 0.],\n",
       "       [1., 0.],\n",
       "       [1., 0.],\n",
       "       [1., 0.],\n",
       "       [1., 0.],\n",
       "       [0., 1.],\n",
       "       [0., 1.],\n",
       "       [1., 0.],\n",
       "       [1., 0.],\n",
       "       [1., 0.],\n",
       "       [1., 0.],\n",
       "       [1., 0.],\n",
       "       [1., 0.],\n",
       "       [1., 0.],\n",
       "       [1., 0.],\n",
       "       [1., 0.],\n",
       "       [1., 0.],\n",
       "       [1., 0.],\n",
       "       [0., 1.],\n",
       "       [1., 0.],\n",
       "       [1., 0.],\n",
       "       [1., 0.],\n",
       "       [1., 0.],\n",
       "       [1., 0.],\n",
       "       [1., 0.],\n",
       "       [1., 0.],\n",
       "       [1., 0.],\n",
       "       [1., 0.],\n",
       "       [1., 0.],\n",
       "       [1., 0.],\n",
       "       [1., 0.]])"
      ]
     },
     "execution_count": 27,
     "metadata": {},
     "output_type": "execute_result"
    }
   ],
   "source": [
    "# Create a OneHotEncoder for the Attrition column\n",
    "attrition_encoder = OneHotEncoder(sparse_output=False, drop=None)\n",
    "\n",
    "# Fit the encoder to the training data\n",
    "attrition_encoder.fit(y_train[['Attrition']])\n",
    "\n",
    "# Create two new variables by applying the encoder\n",
    "# to the training and testing data\n",
    "y_train_encoded_attr = attrition_encoder.transform(y_train[['Attrition']])\n",
    "y_test_encoded_attr = attrition_encoder.transform(y_test[['Attrition']])\n",
    "\n",
    "y_train_encoded_attr\n",
    "y_test_encoded_attr"
   ]
  },
  {
   "cell_type": "markdown",
   "metadata": {
    "id": "ykNmu_WWGc3T"
   },
   "source": [
    "## Part 2: Create, Compile, and Train the Model"
   ]
  },
  {
   "cell_type": "code",
   "execution_count": 29,
   "metadata": {
    "executionInfo": {
     "elapsed": 309,
     "status": "ok",
     "timestamp": 1730699227563,
     "user": {
      "displayName": "Alexander Booth",
      "userId": "02269714993535573104"
     },
     "user_tz": 360
    },
    "id": "WUptZqmSGc3T"
   },
   "outputs": [],
   "source": [
    "# Find the number of columns in the X training data.\n",
    "X_num = X_train.shape[1]\n",
    "\n",
    "# Create the input layer\n",
    "input_layer = layers.Input(shape=(X_num,))\n",
    "\n",
    "# Create at least two shared layers\n",
    "shared_layer1 = layers.Dense(units=128, activation='relu')(input_layer)\n",
    "shared_layer2 = layers.Dense(units=64, activation='relu')(shared_layer1)"
   ]
  },
  {
   "cell_type": "code",
   "execution_count": 30,
   "metadata": {
    "executionInfo": {
     "elapsed": 118,
     "status": "ok",
     "timestamp": 1730699227678,
     "user": {
      "displayName": "Alexander Booth",
      "userId": "02269714993535573104"
     },
     "user_tz": 360
    },
    "id": "JukjTm2yTEqd"
   },
   "outputs": [],
   "source": [
    "# Create a branch for Department\n",
    "# with a hidden layer and an output layer\n",
    "\n",
    "# Create the hidden layer\n",
    "department_hidden = layers.Dense(32, activation='relu')(shared_layer2)\n",
    "\n",
    "# Create the output layer\n",
    "department_output = layers.Dense(len(department_encoder.categories_[0]), activation='softmax', name='department_output')(department_hidden)"
   ]
  },
  {
   "cell_type": "code",
   "execution_count": 31,
   "metadata": {
    "executionInfo": {
     "elapsed": 9,
     "status": "ok",
     "timestamp": 1730699227679,
     "user": {
      "displayName": "Alexander Booth",
      "userId": "02269714993535573104"
     },
     "user_tz": 360
    },
    "id": "9OqhUiOJUBkR"
   },
   "outputs": [],
   "source": [
    "# Create a branch for Attrition\n",
    "# with a hidden layer and an output layer\n",
    "\n",
    "# Create the hidden layer\n",
    "attrition_hidden = layers.Dense(32, activation='relu')(shared_layer2)\n",
    "\n",
    "# Create the output layer\n",
    "attrition_output = layers.Dense(1, activation='sigmoid', name='attrition_output')(attrition_hidden)"
   ]
  },
  {
   "cell_type": "code",
   "execution_count": 32,
   "metadata": {
    "colab": {
     "base_uri": "https://localhost:8080/",
     "height": 361
    },
    "executionInfo": {
     "elapsed": 108,
     "status": "ok",
     "timestamp": 1730699227780,
     "user": {
      "displayName": "Alexander Booth",
      "userId": "02269714993535573104"
     },
     "user_tz": 360
    },
    "id": "twmuejdxGc3T",
    "outputId": "dd9ce242-6a66-4709-ba13-4b13551c22e0"
   },
   "outputs": [
    {
     "data": {
      "text/html": [
       "<pre style=\"white-space:pre;overflow-x:auto;line-height:normal;font-family:Menlo,'DejaVu Sans Mono',consolas,'Courier New',monospace\"><span style=\"font-weight: bold\">Model: \"functional\"</span>\n",
       "</pre>\n"
      ],
      "text/plain": [
       "\u001b[1mModel: \"functional\"\u001b[0m\n"
      ]
     },
     "metadata": {},
     "output_type": "display_data"
    },
    {
     "data": {
      "text/html": [
       "<pre style=\"white-space:pre;overflow-x:auto;line-height:normal;font-family:Menlo,'DejaVu Sans Mono',consolas,'Courier New',monospace\">┏━━━━━━━━━━━━━━━━━━━━━┳━━━━━━━━━━━━━━━━━━━┳━━━━━━━━━━━━┳━━━━━━━━━━━━━━━━━━━┓\n",
       "┃<span style=\"font-weight: bold\"> Layer (type)        </span>┃<span style=\"font-weight: bold\"> Output Shape      </span>┃<span style=\"font-weight: bold\">    Param # </span>┃<span style=\"font-weight: bold\"> Connected to      </span>┃\n",
       "┡━━━━━━━━━━━━━━━━━━━━━╇━━━━━━━━━━━━━━━━━━━╇━━━━━━━━━━━━╇━━━━━━━━━━━━━━━━━━━┩\n",
       "│ input_layer_1       │ (<span style=\"color: #00d7ff; text-decoration-color: #00d7ff\">None</span>, <span style=\"color: #00af00; text-decoration-color: #00af00\">10</span>)        │          <span style=\"color: #00af00; text-decoration-color: #00af00\">0</span> │ -                 │\n",
       "│ (<span style=\"color: #0087ff; text-decoration-color: #0087ff\">InputLayer</span>)        │                   │            │                   │\n",
       "├─────────────────────┼───────────────────┼────────────┼───────────────────┤\n",
       "│ dense_2 (<span style=\"color: #0087ff; text-decoration-color: #0087ff\">Dense</span>)     │ (<span style=\"color: #00d7ff; text-decoration-color: #00d7ff\">None</span>, <span style=\"color: #00af00; text-decoration-color: #00af00\">128</span>)       │      <span style=\"color: #00af00; text-decoration-color: #00af00\">1,408</span> │ input_layer_1[<span style=\"color: #00af00; text-decoration-color: #00af00\">0</span>]… │\n",
       "├─────────────────────┼───────────────────┼────────────┼───────────────────┤\n",
       "│ dense_3 (<span style=\"color: #0087ff; text-decoration-color: #0087ff\">Dense</span>)     │ (<span style=\"color: #00d7ff; text-decoration-color: #00d7ff\">None</span>, <span style=\"color: #00af00; text-decoration-color: #00af00\">64</span>)        │      <span style=\"color: #00af00; text-decoration-color: #00af00\">8,256</span> │ dense_2[<span style=\"color: #00af00; text-decoration-color: #00af00\">0</span>][<span style=\"color: #00af00; text-decoration-color: #00af00\">0</span>]     │\n",
       "├─────────────────────┼───────────────────┼────────────┼───────────────────┤\n",
       "│ dense_5 (<span style=\"color: #0087ff; text-decoration-color: #0087ff\">Dense</span>)     │ (<span style=\"color: #00d7ff; text-decoration-color: #00d7ff\">None</span>, <span style=\"color: #00af00; text-decoration-color: #00af00\">32</span>)        │      <span style=\"color: #00af00; text-decoration-color: #00af00\">2,080</span> │ dense_3[<span style=\"color: #00af00; text-decoration-color: #00af00\">0</span>][<span style=\"color: #00af00; text-decoration-color: #00af00\">0</span>]     │\n",
       "├─────────────────────┼───────────────────┼────────────┼───────────────────┤\n",
       "│ dense_4 (<span style=\"color: #0087ff; text-decoration-color: #0087ff\">Dense</span>)     │ (<span style=\"color: #00d7ff; text-decoration-color: #00d7ff\">None</span>, <span style=\"color: #00af00; text-decoration-color: #00af00\">32</span>)        │      <span style=\"color: #00af00; text-decoration-color: #00af00\">2,080</span> │ dense_3[<span style=\"color: #00af00; text-decoration-color: #00af00\">0</span>][<span style=\"color: #00af00; text-decoration-color: #00af00\">0</span>]     │\n",
       "├─────────────────────┼───────────────────┼────────────┼───────────────────┤\n",
       "│ attrition_output    │ (<span style=\"color: #00d7ff; text-decoration-color: #00d7ff\">None</span>, <span style=\"color: #00af00; text-decoration-color: #00af00\">1</span>)         │         <span style=\"color: #00af00; text-decoration-color: #00af00\">33</span> │ dense_5[<span style=\"color: #00af00; text-decoration-color: #00af00\">0</span>][<span style=\"color: #00af00; text-decoration-color: #00af00\">0</span>]     │\n",
       "│ (<span style=\"color: #0087ff; text-decoration-color: #0087ff\">Dense</span>)             │                   │            │                   │\n",
       "├─────────────────────┼───────────────────┼────────────┼───────────────────┤\n",
       "│ department_output   │ (<span style=\"color: #00d7ff; text-decoration-color: #00d7ff\">None</span>, <span style=\"color: #00af00; text-decoration-color: #00af00\">3</span>)         │         <span style=\"color: #00af00; text-decoration-color: #00af00\">99</span> │ dense_4[<span style=\"color: #00af00; text-decoration-color: #00af00\">0</span>][<span style=\"color: #00af00; text-decoration-color: #00af00\">0</span>]     │\n",
       "│ (<span style=\"color: #0087ff; text-decoration-color: #0087ff\">Dense</span>)             │                   │            │                   │\n",
       "└─────────────────────┴───────────────────┴────────────┴───────────────────┘\n",
       "</pre>\n"
      ],
      "text/plain": [
       "┏━━━━━━━━━━━━━━━━━━━━━┳━━━━━━━━━━━━━━━━━━━┳━━━━━━━━━━━━┳━━━━━━━━━━━━━━━━━━━┓\n",
       "┃\u001b[1m \u001b[0m\u001b[1mLayer (type)       \u001b[0m\u001b[1m \u001b[0m┃\u001b[1m \u001b[0m\u001b[1mOutput Shape     \u001b[0m\u001b[1m \u001b[0m┃\u001b[1m \u001b[0m\u001b[1m   Param #\u001b[0m\u001b[1m \u001b[0m┃\u001b[1m \u001b[0m\u001b[1mConnected to     \u001b[0m\u001b[1m \u001b[0m┃\n",
       "┡━━━━━━━━━━━━━━━━━━━━━╇━━━━━━━━━━━━━━━━━━━╇━━━━━━━━━━━━╇━━━━━━━━━━━━━━━━━━━┩\n",
       "│ input_layer_1       │ (\u001b[38;5;45mNone\u001b[0m, \u001b[38;5;34m10\u001b[0m)        │          \u001b[38;5;34m0\u001b[0m │ -                 │\n",
       "│ (\u001b[38;5;33mInputLayer\u001b[0m)        │                   │            │                   │\n",
       "├─────────────────────┼───────────────────┼────────────┼───────────────────┤\n",
       "│ dense_2 (\u001b[38;5;33mDense\u001b[0m)     │ (\u001b[38;5;45mNone\u001b[0m, \u001b[38;5;34m128\u001b[0m)       │      \u001b[38;5;34m1,408\u001b[0m │ input_layer_1[\u001b[38;5;34m0\u001b[0m]… │\n",
       "├─────────────────────┼───────────────────┼────────────┼───────────────────┤\n",
       "│ dense_3 (\u001b[38;5;33mDense\u001b[0m)     │ (\u001b[38;5;45mNone\u001b[0m, \u001b[38;5;34m64\u001b[0m)        │      \u001b[38;5;34m8,256\u001b[0m │ dense_2[\u001b[38;5;34m0\u001b[0m][\u001b[38;5;34m0\u001b[0m]     │\n",
       "├─────────────────────┼───────────────────┼────────────┼───────────────────┤\n",
       "│ dense_5 (\u001b[38;5;33mDense\u001b[0m)     │ (\u001b[38;5;45mNone\u001b[0m, \u001b[38;5;34m32\u001b[0m)        │      \u001b[38;5;34m2,080\u001b[0m │ dense_3[\u001b[38;5;34m0\u001b[0m][\u001b[38;5;34m0\u001b[0m]     │\n",
       "├─────────────────────┼───────────────────┼────────────┼───────────────────┤\n",
       "│ dense_4 (\u001b[38;5;33mDense\u001b[0m)     │ (\u001b[38;5;45mNone\u001b[0m, \u001b[38;5;34m32\u001b[0m)        │      \u001b[38;5;34m2,080\u001b[0m │ dense_3[\u001b[38;5;34m0\u001b[0m][\u001b[38;5;34m0\u001b[0m]     │\n",
       "├─────────────────────┼───────────────────┼────────────┼───────────────────┤\n",
       "│ attrition_output    │ (\u001b[38;5;45mNone\u001b[0m, \u001b[38;5;34m1\u001b[0m)         │         \u001b[38;5;34m33\u001b[0m │ dense_5[\u001b[38;5;34m0\u001b[0m][\u001b[38;5;34m0\u001b[0m]     │\n",
       "│ (\u001b[38;5;33mDense\u001b[0m)             │                   │            │                   │\n",
       "├─────────────────────┼───────────────────┼────────────┼───────────────────┤\n",
       "│ department_output   │ (\u001b[38;5;45mNone\u001b[0m, \u001b[38;5;34m3\u001b[0m)         │         \u001b[38;5;34m99\u001b[0m │ dense_4[\u001b[38;5;34m0\u001b[0m][\u001b[38;5;34m0\u001b[0m]     │\n",
       "│ (\u001b[38;5;33mDense\u001b[0m)             │                   │            │                   │\n",
       "└─────────────────────┴───────────────────┴────────────┴───────────────────┘\n"
      ]
     },
     "metadata": {},
     "output_type": "display_data"
    },
    {
     "data": {
      "text/html": [
       "<pre style=\"white-space:pre;overflow-x:auto;line-height:normal;font-family:Menlo,'DejaVu Sans Mono',consolas,'Courier New',monospace\"><span style=\"font-weight: bold\"> Total params: </span><span style=\"color: #00af00; text-decoration-color: #00af00\">13,956</span> (54.52 KB)\n",
       "</pre>\n"
      ],
      "text/plain": [
       "\u001b[1m Total params: \u001b[0m\u001b[38;5;34m13,956\u001b[0m (54.52 KB)\n"
      ]
     },
     "metadata": {},
     "output_type": "display_data"
    },
    {
     "data": {
      "text/html": [
       "<pre style=\"white-space:pre;overflow-x:auto;line-height:normal;font-family:Menlo,'DejaVu Sans Mono',consolas,'Courier New',monospace\"><span style=\"font-weight: bold\"> Trainable params: </span><span style=\"color: #00af00; text-decoration-color: #00af00\">13,956</span> (54.52 KB)\n",
       "</pre>\n"
      ],
      "text/plain": [
       "\u001b[1m Trainable params: \u001b[0m\u001b[38;5;34m13,956\u001b[0m (54.52 KB)\n"
      ]
     },
     "metadata": {},
     "output_type": "display_data"
    },
    {
     "data": {
      "text/html": [
       "<pre style=\"white-space:pre;overflow-x:auto;line-height:normal;font-family:Menlo,'DejaVu Sans Mono',consolas,'Courier New',monospace\"><span style=\"font-weight: bold\"> Non-trainable params: </span><span style=\"color: #00af00; text-decoration-color: #00af00\">0</span> (0.00 B)\n",
       "</pre>\n"
      ],
      "text/plain": [
       "\u001b[1m Non-trainable params: \u001b[0m\u001b[38;5;34m0\u001b[0m (0.00 B)\n"
      ]
     },
     "metadata": {},
     "output_type": "display_data"
    }
   ],
   "source": [
    "# Create the model\n",
    "model = Model(inputs=input_layer, outputs={'department_output': department_output, 'attrition_output': attrition_output})\n",
    "\n",
    "# Compile the model\n",
    "model.compile(optimizer='adam',\n",
    "              loss={'department_output': 'categorical_crossentropy', 'attrition_output': 'binary_crossentropy'},\n",
    "              metrics={'department_output': 'accuracy', 'attrition_output': 'accuracy'})\n",
    "\n",
    "# Summarize the model\n",
    "model.summary()"
   ]
  },
  {
   "cell_type": "code",
   "execution_count": 33,
   "metadata": {
    "colab": {
     "base_uri": "https://localhost:8080/"
    },
    "executionInfo": {
     "elapsed": 31740,
     "status": "ok",
     "timestamp": 1730699259517,
     "user": {
      "displayName": "Alexander Booth",
      "userId": "02269714993535573104"
     },
     "user_tz": 360
    },
    "id": "c8oGy0dpGc3U",
    "outputId": "f48a5292-426f-4715-ea6e-381a8e9d5542"
   },
   "outputs": [
    {
     "name": "stdout",
     "output_type": "stream",
     "text": [
      "Epoch 1/100\n",
      "\u001b[1m28/28\u001b[0m \u001b[32m━━━━━━━━━━━━━━━━━━━━\u001b[0m\u001b[37m\u001b[0m \u001b[1m3s\u001b[0m 16ms/step - attrition_output_accuracy: 0.6014 - attrition_output_loss: 0.6427 - department_output_accuracy: 0.4307 - department_output_loss: 1.0516 - loss: 1.6947 - val_attrition_output_accuracy: 0.8371 - val_attrition_output_loss: 0.4517 - val_department_output_accuracy: 0.7104 - val_department_output_loss: 0.7504 - val_loss: 1.2083\n",
      "Epoch 2/100\n",
      "\u001b[1m28/28\u001b[0m \u001b[32m━━━━━━━━━━━━━━━━━━━━\u001b[0m\u001b[37m\u001b[0m \u001b[1m0s\u001b[0m 5ms/step - attrition_output_accuracy: 0.8461 - attrition_output_loss: 0.4325 - department_output_accuracy: 0.6434 - department_output_loss: 0.7860 - loss: 1.2187 - val_attrition_output_accuracy: 0.8371 - val_attrition_output_loss: 0.4378 - val_department_output_accuracy: 0.7104 - val_department_output_loss: 0.7583 - val_loss: 1.2013\n",
      "Epoch 3/100\n",
      "\u001b[1m28/28\u001b[0m \u001b[32m━━━━━━━━━━━━━━━━━━━━\u001b[0m\u001b[37m\u001b[0m \u001b[1m0s\u001b[0m 6ms/step - attrition_output_accuracy: 0.8445 - attrition_output_loss: 0.4158 - department_output_accuracy: 0.6446 - department_output_loss: 0.7691 - loss: 1.1851 - val_attrition_output_accuracy: 0.8416 - val_attrition_output_loss: 0.4376 - val_department_output_accuracy: 0.7149 - val_department_output_loss: 0.7727 - val_loss: 1.2154\n",
      "Epoch 4/100\n",
      "\u001b[1m28/28\u001b[0m \u001b[32m━━━━━━━━━━━━━━━━━━━━\u001b[0m\u001b[37m\u001b[0m \u001b[1m0s\u001b[0m 5ms/step - attrition_output_accuracy: 0.8345 - attrition_output_loss: 0.4165 - department_output_accuracy: 0.6093 - department_output_loss: 0.7798 - loss: 1.1964 - val_attrition_output_accuracy: 0.8462 - val_attrition_output_loss: 0.4376 - val_department_output_accuracy: 0.7059 - val_department_output_loss: 0.7532 - val_loss: 1.1969\n",
      "Epoch 5/100\n",
      "\u001b[1m28/28\u001b[0m \u001b[32m━━━━━━━━━━━━━━━━━━━━\u001b[0m\u001b[37m\u001b[0m \u001b[1m0s\u001b[0m 5ms/step - attrition_output_accuracy: 0.8515 - attrition_output_loss: 0.3949 - department_output_accuracy: 0.6101 - department_output_loss: 0.7697 - loss: 1.1642 - val_attrition_output_accuracy: 0.8235 - val_attrition_output_loss: 0.4446 - val_department_output_accuracy: 0.7104 - val_department_output_loss: 0.7610 - val_loss: 1.2114\n",
      "Epoch 6/100\n",
      "\u001b[1m28/28\u001b[0m \u001b[32m━━━━━━━━━━━━━━━━━━━━\u001b[0m\u001b[37m\u001b[0m \u001b[1m0s\u001b[0m 6ms/step - attrition_output_accuracy: 0.8403 - attrition_output_loss: 0.4073 - department_output_accuracy: 0.6285 - department_output_loss: 0.7647 - loss: 1.1717 - val_attrition_output_accuracy: 0.8416 - val_attrition_output_loss: 0.4356 - val_department_output_accuracy: 0.7014 - val_department_output_loss: 0.7732 - val_loss: 1.2147\n",
      "Epoch 7/100\n",
      "\u001b[1m28/28\u001b[0m \u001b[32m━━━━━━━━━━━━━━━━━━━━\u001b[0m\u001b[37m\u001b[0m \u001b[1m0s\u001b[0m 6ms/step - attrition_output_accuracy: 0.8413 - attrition_output_loss: 0.3736 - department_output_accuracy: 0.6359 - department_output_loss: 0.7449 - loss: 1.1183 - val_attrition_output_accuracy: 0.8145 - val_attrition_output_loss: 0.4389 - val_department_output_accuracy: 0.7059 - val_department_output_loss: 0.7736 - val_loss: 1.2179\n",
      "Epoch 8/100\n",
      "\u001b[1m28/28\u001b[0m \u001b[32m━━━━━━━━━━━━━━━━━━━━\u001b[0m\u001b[37m\u001b[0m \u001b[1m0s\u001b[0m 6ms/step - attrition_output_accuracy: 0.8346 - attrition_output_loss: 0.3975 - department_output_accuracy: 0.6377 - department_output_loss: 0.7374 - loss: 1.1349 - val_attrition_output_accuracy: 0.8371 - val_attrition_output_loss: 0.4357 - val_department_output_accuracy: 0.6923 - val_department_output_loss: 0.7756 - val_loss: 1.2173\n",
      "Epoch 9/100\n",
      "\u001b[1m28/28\u001b[0m \u001b[32m━━━━━━━━━━━━━━━━━━━━\u001b[0m\u001b[37m\u001b[0m \u001b[1m0s\u001b[0m 6ms/step - attrition_output_accuracy: 0.8499 - attrition_output_loss: 0.3561 - department_output_accuracy: 0.6368 - department_output_loss: 0.7391 - loss: 1.0951 - val_attrition_output_accuracy: 0.8145 - val_attrition_output_loss: 0.4387 - val_department_output_accuracy: 0.7059 - val_department_output_loss: 0.7714 - val_loss: 1.2159\n",
      "Epoch 10/100\n",
      "\u001b[1m28/28\u001b[0m \u001b[32m━━━━━━━━━━━━━━━━━━━━\u001b[0m\u001b[37m\u001b[0m \u001b[1m0s\u001b[0m 6ms/step - attrition_output_accuracy: 0.8596 - attrition_output_loss: 0.3579 - department_output_accuracy: 0.6513 - department_output_loss: 0.7084 - loss: 1.0662 - val_attrition_output_accuracy: 0.8326 - val_attrition_output_loss: 0.4481 - val_department_output_accuracy: 0.6697 - val_department_output_loss: 0.7856 - val_loss: 1.2398\n",
      "Epoch 11/100\n",
      "\u001b[1m28/28\u001b[0m \u001b[32m━━━━━━━━━━━━━━━━━━━━\u001b[0m\u001b[37m\u001b[0m \u001b[1m0s\u001b[0m 5ms/step - attrition_output_accuracy: 0.8510 - attrition_output_loss: 0.3516 - department_output_accuracy: 0.6563 - department_output_loss: 0.7456 - loss: 1.0972 - val_attrition_output_accuracy: 0.8145 - val_attrition_output_loss: 0.4392 - val_department_output_accuracy: 0.6833 - val_department_output_loss: 0.7774 - val_loss: 1.2229\n",
      "Epoch 12/100\n",
      "\u001b[1m28/28\u001b[0m \u001b[32m━━━━━━━━━━━━━━━━━━━━\u001b[0m\u001b[37m\u001b[0m \u001b[1m0s\u001b[0m 6ms/step - attrition_output_accuracy: 0.8702 - attrition_output_loss: 0.3309 - department_output_accuracy: 0.6793 - department_output_loss: 0.6999 - loss: 1.0303 - val_attrition_output_accuracy: 0.8054 - val_attrition_output_loss: 0.4410 - val_department_output_accuracy: 0.6606 - val_department_output_loss: 0.7993 - val_loss: 1.2461\n",
      "Epoch 13/100\n",
      "\u001b[1m28/28\u001b[0m \u001b[32m━━━━━━━━━━━━━━━━━━━━\u001b[0m\u001b[37m\u001b[0m \u001b[1m0s\u001b[0m 5ms/step - attrition_output_accuracy: 0.8521 - attrition_output_loss: 0.3429 - department_output_accuracy: 0.6666 - department_output_loss: 0.6976 - loss: 1.0405 - val_attrition_output_accuracy: 0.8054 - val_attrition_output_loss: 0.4539 - val_department_output_accuracy: 0.6425 - val_department_output_loss: 0.7982 - val_loss: 1.2582\n",
      "Epoch 14/100\n",
      "\u001b[1m28/28\u001b[0m \u001b[32m━━━━━━━━━━━━━━━━━━━━\u001b[0m\u001b[37m\u001b[0m \u001b[1m0s\u001b[0m 5ms/step - attrition_output_accuracy: 0.8655 - attrition_output_loss: 0.3265 - department_output_accuracy: 0.7123 - department_output_loss: 0.6590 - loss: 0.9854 - val_attrition_output_accuracy: 0.7873 - val_attrition_output_loss: 0.4513 - val_department_output_accuracy: 0.6742 - val_department_output_loss: 0.7812 - val_loss: 1.2385\n",
      "Epoch 15/100\n",
      "\u001b[1m28/28\u001b[0m \u001b[32m━━━━━━━━━━━━━━━━━━━━\u001b[0m\u001b[37m\u001b[0m \u001b[1m0s\u001b[0m 6ms/step - attrition_output_accuracy: 0.8672 - attrition_output_loss: 0.3218 - department_output_accuracy: 0.6739 - department_output_loss: 0.6914 - loss: 1.0131 - val_attrition_output_accuracy: 0.7964 - val_attrition_output_loss: 0.4610 - val_department_output_accuracy: 0.6878 - val_department_output_loss: 0.7751 - val_loss: 1.2430\n",
      "Epoch 16/100\n",
      "\u001b[1m28/28\u001b[0m \u001b[32m━━━━━━━━━━━━━━━━━━━━\u001b[0m\u001b[37m\u001b[0m \u001b[1m0s\u001b[0m 5ms/step - attrition_output_accuracy: 0.8727 - attrition_output_loss: 0.3101 - department_output_accuracy: 0.6956 - department_output_loss: 0.6420 - loss: 0.9522 - val_attrition_output_accuracy: 0.8054 - val_attrition_output_loss: 0.4537 - val_department_output_accuracy: 0.6606 - val_department_output_loss: 0.7945 - val_loss: 1.2547\n",
      "Epoch 17/100\n",
      "\u001b[1m28/28\u001b[0m \u001b[32m━━━━━━━━━━━━━━━━━━━━\u001b[0m\u001b[37m\u001b[0m \u001b[1m0s\u001b[0m 6ms/step - attrition_output_accuracy: 0.8750 - attrition_output_loss: 0.2976 - department_output_accuracy: 0.6916 - department_output_loss: 0.6477 - loss: 0.9453 - val_attrition_output_accuracy: 0.8009 - val_attrition_output_loss: 0.4594 - val_department_output_accuracy: 0.6290 - val_department_output_loss: 0.8176 - val_loss: 1.2829\n",
      "Epoch 18/100\n",
      "\u001b[1m28/28\u001b[0m \u001b[32m━━━━━━━━━━━━━━━━━━━━\u001b[0m\u001b[37m\u001b[0m \u001b[1m0s\u001b[0m 5ms/step - attrition_output_accuracy: 0.8885 - attrition_output_loss: 0.2978 - department_output_accuracy: 0.7214 - department_output_loss: 0.6358 - loss: 0.9330 - val_attrition_output_accuracy: 0.7783 - val_attrition_output_loss: 0.4792 - val_department_output_accuracy: 0.6425 - val_department_output_loss: 0.8050 - val_loss: 1.2907\n",
      "Epoch 19/100\n",
      "\u001b[1m28/28\u001b[0m \u001b[32m━━━━━━━━━━━━━━━━━━━━\u001b[0m\u001b[37m\u001b[0m \u001b[1m0s\u001b[0m 6ms/step - attrition_output_accuracy: 0.8618 - attrition_output_loss: 0.3032 - department_output_accuracy: 0.7203 - department_output_loss: 0.6110 - loss: 0.9143 - val_attrition_output_accuracy: 0.7919 - val_attrition_output_loss: 0.4737 - val_department_output_accuracy: 0.6018 - val_department_output_loss: 0.8368 - val_loss: 1.3159\n",
      "Epoch 20/100\n",
      "\u001b[1m28/28\u001b[0m \u001b[32m━━━━━━━━━━━━━━━━━━━━\u001b[0m\u001b[37m\u001b[0m \u001b[1m0s\u001b[0m 5ms/step - attrition_output_accuracy: 0.8826 - attrition_output_loss: 0.2808 - department_output_accuracy: 0.6997 - department_output_loss: 0.6288 - loss: 0.9097 - val_attrition_output_accuracy: 0.8009 - val_attrition_output_loss: 0.4722 - val_department_output_accuracy: 0.6380 - val_department_output_loss: 0.8134 - val_loss: 1.2928\n",
      "Epoch 21/100\n",
      "\u001b[1m28/28\u001b[0m \u001b[32m━━━━━━━━━━━━━━━━━━━━\u001b[0m\u001b[37m\u001b[0m \u001b[1m0s\u001b[0m 5ms/step - attrition_output_accuracy: 0.8837 - attrition_output_loss: 0.2981 - department_output_accuracy: 0.7021 - department_output_loss: 0.6173 - loss: 0.9152 - val_attrition_output_accuracy: 0.8100 - val_attrition_output_loss: 0.4893 - val_department_output_accuracy: 0.6199 - val_department_output_loss: 0.8405 - val_loss: 1.3369\n",
      "Epoch 22/100\n",
      "\u001b[1m28/28\u001b[0m \u001b[32m━━━━━━━━━━━━━━━━━━━━\u001b[0m\u001b[37m\u001b[0m \u001b[1m0s\u001b[0m 5ms/step - attrition_output_accuracy: 0.8725 - attrition_output_loss: 0.2863 - department_output_accuracy: 0.7575 - department_output_loss: 0.5666 - loss: 0.8526 - val_attrition_output_accuracy: 0.8054 - val_attrition_output_loss: 0.4860 - val_department_output_accuracy: 0.6018 - val_department_output_loss: 0.8539 - val_loss: 1.3471\n",
      "Epoch 23/100\n",
      "\u001b[1m28/28\u001b[0m \u001b[32m━━━━━━━━━━━━━━━━━━━━\u001b[0m\u001b[37m\u001b[0m \u001b[1m0s\u001b[0m 5ms/step - attrition_output_accuracy: 0.8828 - attrition_output_loss: 0.2849 - department_output_accuracy: 0.7942 - department_output_loss: 0.5421 - loss: 0.8271 - val_attrition_output_accuracy: 0.7783 - val_attrition_output_loss: 0.5015 - val_department_output_accuracy: 0.6244 - val_department_output_loss: 0.8482 - val_loss: 1.3565\n",
      "Epoch 24/100\n",
      "\u001b[1m28/28\u001b[0m \u001b[32m━━━━━━━━━━━━━━━━━━━━\u001b[0m\u001b[37m\u001b[0m \u001b[1m0s\u001b[0m 5ms/step - attrition_output_accuracy: 0.9136 - attrition_output_loss: 0.2392 - department_output_accuracy: 0.7654 - department_output_loss: 0.5495 - loss: 0.7885 - val_attrition_output_accuracy: 0.7919 - val_attrition_output_loss: 0.5175 - val_department_output_accuracy: 0.5204 - val_department_output_loss: 0.9807 - val_loss: 1.5041\n",
      "Epoch 25/100\n",
      "\u001b[1m28/28\u001b[0m \u001b[32m━━━━━━━━━━━━━━━━━━━━\u001b[0m\u001b[37m\u001b[0m \u001b[1m0s\u001b[0m 5ms/step - attrition_output_accuracy: 0.8919 - attrition_output_loss: 0.2477 - department_output_accuracy: 0.7787 - department_output_loss: 0.5337 - loss: 0.7809 - val_attrition_output_accuracy: 0.7964 - val_attrition_output_loss: 0.5284 - val_department_output_accuracy: 0.6199 - val_department_output_loss: 0.8616 - val_loss: 1.3981\n",
      "Epoch 26/100\n",
      "\u001b[1m28/28\u001b[0m \u001b[32m━━━━━━━━━━━━━━━━━━━━\u001b[0m\u001b[37m\u001b[0m \u001b[1m0s\u001b[0m 5ms/step - attrition_output_accuracy: 0.8887 - attrition_output_loss: 0.2610 - department_output_accuracy: 0.7828 - department_output_loss: 0.5024 - loss: 0.7634 - val_attrition_output_accuracy: 0.8054 - val_attrition_output_loss: 0.5229 - val_department_output_accuracy: 0.6018 - val_department_output_loss: 0.8716 - val_loss: 1.4027\n",
      "Epoch 27/100\n",
      "\u001b[1m28/28\u001b[0m \u001b[32m━━━━━━━━━━━━━━━━━━━━\u001b[0m\u001b[37m\u001b[0m \u001b[1m0s\u001b[0m 5ms/step - attrition_output_accuracy: 0.8985 - attrition_output_loss: 0.2378 - department_output_accuracy: 0.7958 - department_output_loss: 0.5156 - loss: 0.7532 - val_attrition_output_accuracy: 0.8235 - val_attrition_output_loss: 0.5298 - val_department_output_accuracy: 0.6471 - val_department_output_loss: 0.8773 - val_loss: 1.4160\n",
      "Epoch 28/100\n",
      "\u001b[1m28/28\u001b[0m \u001b[32m━━━━━━━━━━━━━━━━━━━━\u001b[0m\u001b[37m\u001b[0m \u001b[1m0s\u001b[0m 5ms/step - attrition_output_accuracy: 0.8872 - attrition_output_loss: 0.2755 - department_output_accuracy: 0.8145 - department_output_loss: 0.4860 - loss: 0.7615 - val_attrition_output_accuracy: 0.7692 - val_attrition_output_loss: 0.5520 - val_department_output_accuracy: 0.6290 - val_department_output_loss: 0.8836 - val_loss: 1.4434\n",
      "Epoch 29/100\n",
      "\u001b[1m28/28\u001b[0m \u001b[32m━━━━━━━━━━━━━━━━━━━━\u001b[0m\u001b[37m\u001b[0m \u001b[1m0s\u001b[0m 5ms/step - attrition_output_accuracy: 0.8924 - attrition_output_loss: 0.2615 - department_output_accuracy: 0.8095 - department_output_loss: 0.4752 - loss: 0.7364 - val_attrition_output_accuracy: 0.7919 - val_attrition_output_loss: 0.5407 - val_department_output_accuracy: 0.5701 - val_department_output_loss: 0.9553 - val_loss: 1.5039\n",
      "Epoch 30/100\n",
      "\u001b[1m28/28\u001b[0m \u001b[32m━━━━━━━━━━━━━━━━━━━━\u001b[0m\u001b[37m\u001b[0m \u001b[1m0s\u001b[0m 6ms/step - attrition_output_accuracy: 0.9065 - attrition_output_loss: 0.2292 - department_output_accuracy: 0.8185 - department_output_loss: 0.4629 - loss: 0.6919 - val_attrition_output_accuracy: 0.7783 - val_attrition_output_loss: 0.5658 - val_department_output_accuracy: 0.5747 - val_department_output_loss: 0.9480 - val_loss: 1.5216\n",
      "Epoch 31/100\n",
      "\u001b[1m28/28\u001b[0m \u001b[32m━━━━━━━━━━━━━━━━━━━━\u001b[0m\u001b[37m\u001b[0m \u001b[1m0s\u001b[0m 5ms/step - attrition_output_accuracy: 0.9231 - attrition_output_loss: 0.2097 - department_output_accuracy: 0.8143 - department_output_loss: 0.4757 - loss: 0.6857 - val_attrition_output_accuracy: 0.7828 - val_attrition_output_loss: 0.5639 - val_department_output_accuracy: 0.6199 - val_department_output_loss: 0.9311 - val_loss: 1.5046\n",
      "Epoch 32/100\n",
      "\u001b[1m28/28\u001b[0m \u001b[32m━━━━━━━━━━━━━━━━━━━━\u001b[0m\u001b[37m\u001b[0m \u001b[1m0s\u001b[0m 5ms/step - attrition_output_accuracy: 0.9104 - attrition_output_loss: 0.2241 - department_output_accuracy: 0.8171 - department_output_loss: 0.4652 - loss: 0.6895 - val_attrition_output_accuracy: 0.7738 - val_attrition_output_loss: 0.5923 - val_department_output_accuracy: 0.5294 - val_department_output_loss: 0.9950 - val_loss: 1.5953\n",
      "Epoch 33/100\n",
      "\u001b[1m28/28\u001b[0m \u001b[32m━━━━━━━━━━━━━━━━━━━━\u001b[0m\u001b[37m\u001b[0m \u001b[1m0s\u001b[0m 5ms/step - attrition_output_accuracy: 0.9271 - attrition_output_loss: 0.1990 - department_output_accuracy: 0.8412 - department_output_loss: 0.4361 - loss: 0.6348 - val_attrition_output_accuracy: 0.7919 - val_attrition_output_loss: 0.6036 - val_department_output_accuracy: 0.5882 - val_department_output_loss: 0.9860 - val_loss: 1.5995\n",
      "Epoch 34/100\n",
      "\u001b[1m28/28\u001b[0m \u001b[32m━━━━━━━━━━━━━━━━━━━━\u001b[0m\u001b[37m\u001b[0m \u001b[1m0s\u001b[0m 5ms/step - attrition_output_accuracy: 0.9062 - attrition_output_loss: 0.2320 - department_output_accuracy: 0.8506 - department_output_loss: 0.4170 - loss: 0.6489 - val_attrition_output_accuracy: 0.7964 - val_attrition_output_loss: 0.5878 - val_department_output_accuracy: 0.5747 - val_department_output_loss: 1.0274 - val_loss: 1.6248\n",
      "Epoch 35/100\n",
      "\u001b[1m28/28\u001b[0m \u001b[32m━━━━━━━━━━━━━━━━━━━━\u001b[0m\u001b[37m\u001b[0m \u001b[1m0s\u001b[0m 5ms/step - attrition_output_accuracy: 0.9222 - attrition_output_loss: 0.2042 - department_output_accuracy: 0.8581 - department_output_loss: 0.4012 - loss: 0.6054 - val_attrition_output_accuracy: 0.7647 - val_attrition_output_loss: 0.5949 - val_department_output_accuracy: 0.5747 - val_department_output_loss: 1.0357 - val_loss: 1.6393\n",
      "Epoch 36/100\n",
      "\u001b[1m28/28\u001b[0m \u001b[32m━━━━━━━━━━━━━━━━━━━━\u001b[0m\u001b[37m\u001b[0m \u001b[1m0s\u001b[0m 5ms/step - attrition_output_accuracy: 0.9319 - attrition_output_loss: 0.2038 - department_output_accuracy: 0.8480 - department_output_loss: 0.3917 - loss: 0.5953 - val_attrition_output_accuracy: 0.7964 - val_attrition_output_loss: 0.6242 - val_department_output_accuracy: 0.5611 - val_department_output_loss: 1.0321 - val_loss: 1.6660\n",
      "Epoch 37/100\n",
      "\u001b[1m28/28\u001b[0m \u001b[32m━━━━━━━━━━━━━━━━━━━━\u001b[0m\u001b[37m\u001b[0m \u001b[1m0s\u001b[0m 5ms/step - attrition_output_accuracy: 0.9159 - attrition_output_loss: 0.1872 - department_output_accuracy: 0.8698 - department_output_loss: 0.3630 - loss: 0.5500 - val_attrition_output_accuracy: 0.8009 - val_attrition_output_loss: 0.6383 - val_department_output_accuracy: 0.5611 - val_department_output_loss: 1.0324 - val_loss: 1.6825\n",
      "Epoch 38/100\n",
      "\u001b[1m28/28\u001b[0m \u001b[32m━━━━━━━━━━━━━━━━━━━━\u001b[0m\u001b[37m\u001b[0m \u001b[1m0s\u001b[0m 7ms/step - attrition_output_accuracy: 0.9286 - attrition_output_loss: 0.1903 - department_output_accuracy: 0.8659 - department_output_loss: 0.3658 - loss: 0.5561 - val_attrition_output_accuracy: 0.7647 - val_attrition_output_loss: 0.6389 - val_department_output_accuracy: 0.5023 - val_department_output_loss: 1.1611 - val_loss: 1.8086\n",
      "Epoch 39/100\n",
      "\u001b[1m28/28\u001b[0m \u001b[32m━━━━━━━━━━━━━━━━━━━━\u001b[0m\u001b[37m\u001b[0m \u001b[1m0s\u001b[0m 5ms/step - attrition_output_accuracy: 0.9368 - attrition_output_loss: 0.1791 - department_output_accuracy: 0.8748 - department_output_loss: 0.3514 - loss: 0.5304 - val_attrition_output_accuracy: 0.8009 - val_attrition_output_loss: 0.6651 - val_department_output_accuracy: 0.5747 - val_department_output_loss: 1.0697 - val_loss: 1.7474\n",
      "Epoch 40/100\n",
      "\u001b[1m28/28\u001b[0m \u001b[32m━━━━━━━━━━━━━━━━━━━━\u001b[0m\u001b[37m\u001b[0m \u001b[1m0s\u001b[0m 5ms/step - attrition_output_accuracy: 0.9378 - attrition_output_loss: 0.1598 - department_output_accuracy: 0.8674 - department_output_loss: 0.3608 - loss: 0.5206 - val_attrition_output_accuracy: 0.7873 - val_attrition_output_loss: 0.6504 - val_department_output_accuracy: 0.5023 - val_department_output_loss: 1.1659 - val_loss: 1.8262\n",
      "Epoch 41/100\n",
      "\u001b[1m28/28\u001b[0m \u001b[32m━━━━━━━━━━━━━━━━━━━━\u001b[0m\u001b[37m\u001b[0m \u001b[1m0s\u001b[0m 5ms/step - attrition_output_accuracy: 0.9280 - attrition_output_loss: 0.1639 - department_output_accuracy: 0.9015 - department_output_loss: 0.3214 - loss: 0.4852 - val_attrition_output_accuracy: 0.7828 - val_attrition_output_loss: 0.7023 - val_department_output_accuracy: 0.5385 - val_department_output_loss: 1.1604 - val_loss: 1.8736\n",
      "Epoch 42/100\n",
      "\u001b[1m28/28\u001b[0m \u001b[32m━━━━━━━━━━━━━━━━━━━━\u001b[0m\u001b[37m\u001b[0m \u001b[1m0s\u001b[0m 5ms/step - attrition_output_accuracy: 0.9408 - attrition_output_loss: 0.1616 - department_output_accuracy: 0.8786 - department_output_loss: 0.3303 - loss: 0.4917 - val_attrition_output_accuracy: 0.7964 - val_attrition_output_loss: 0.6980 - val_department_output_accuracy: 0.6380 - val_department_output_loss: 1.0855 - val_loss: 1.7978\n",
      "Epoch 43/100\n",
      "\u001b[1m28/28\u001b[0m \u001b[32m━━━━━━━━━━━━━━━━━━━━\u001b[0m\u001b[37m\u001b[0m \u001b[1m0s\u001b[0m 5ms/step - attrition_output_accuracy: 0.9501 - attrition_output_loss: 0.1528 - department_output_accuracy: 0.8930 - department_output_loss: 0.3029 - loss: 0.4555 - val_attrition_output_accuracy: 0.7692 - val_attrition_output_loss: 0.6927 - val_department_output_accuracy: 0.5475 - val_department_output_loss: 1.2179 - val_loss: 1.9208\n",
      "Epoch 44/100\n",
      "\u001b[1m28/28\u001b[0m \u001b[32m━━━━━━━━━━━━━━━━━━━━\u001b[0m\u001b[37m\u001b[0m \u001b[1m0s\u001b[0m 6ms/step - attrition_output_accuracy: 0.9275 - attrition_output_loss: 0.1564 - department_output_accuracy: 0.9008 - department_output_loss: 0.2867 - loss: 0.4432 - val_attrition_output_accuracy: 0.7738 - val_attrition_output_loss: 0.7232 - val_department_output_accuracy: 0.5475 - val_department_output_loss: 1.1924 - val_loss: 1.9269\n",
      "Epoch 45/100\n",
      "\u001b[1m28/28\u001b[0m \u001b[32m━━━━━━━━━━━━━━━━━━━━\u001b[0m\u001b[37m\u001b[0m \u001b[1m0s\u001b[0m 6ms/step - attrition_output_accuracy: 0.9506 - attrition_output_loss: 0.1509 - department_output_accuracy: 0.9216 - department_output_loss: 0.2630 - loss: 0.4138 - val_attrition_output_accuracy: 0.7964 - val_attrition_output_loss: 0.7352 - val_department_output_accuracy: 0.5204 - val_department_output_loss: 1.2536 - val_loss: 2.0015\n",
      "Epoch 46/100\n",
      "\u001b[1m28/28\u001b[0m \u001b[32m━━━━━━━━━━━━━━━━━━━━\u001b[0m\u001b[37m\u001b[0m \u001b[1m0s\u001b[0m 6ms/step - attrition_output_accuracy: 0.9556 - attrition_output_loss: 0.1477 - department_output_accuracy: 0.9127 - department_output_loss: 0.2707 - loss: 0.4185 - val_attrition_output_accuracy: 0.7466 - val_attrition_output_loss: 0.7370 - val_department_output_accuracy: 0.5430 - val_department_output_loss: 1.2538 - val_loss: 2.0018\n",
      "Epoch 47/100\n",
      "\u001b[1m28/28\u001b[0m \u001b[32m━━━━━━━━━━━━━━━━━━━━\u001b[0m\u001b[37m\u001b[0m \u001b[1m0s\u001b[0m 5ms/step - attrition_output_accuracy: 0.9480 - attrition_output_loss: 0.1391 - department_output_accuracy: 0.9270 - department_output_loss: 0.2606 - loss: 0.3996 - val_attrition_output_accuracy: 0.7602 - val_attrition_output_loss: 0.7754 - val_department_output_accuracy: 0.5792 - val_department_output_loss: 1.2380 - val_loss: 2.0270\n",
      "Epoch 48/100\n",
      "\u001b[1m28/28\u001b[0m \u001b[32m━━━━━━━━━━━━━━━━━━━━\u001b[0m\u001b[37m\u001b[0m \u001b[1m0s\u001b[0m 5ms/step - attrition_output_accuracy: 0.9544 - attrition_output_loss: 0.1180 - department_output_accuracy: 0.9294 - department_output_loss: 0.2522 - loss: 0.3704 - val_attrition_output_accuracy: 0.7783 - val_attrition_output_loss: 0.7607 - val_department_output_accuracy: 0.5928 - val_department_output_loss: 1.2113 - val_loss: 1.9867\n",
      "Epoch 49/100\n",
      "\u001b[1m28/28\u001b[0m \u001b[32m━━━━━━━━━━━━━━━━━━━━\u001b[0m\u001b[37m\u001b[0m \u001b[1m0s\u001b[0m 5ms/step - attrition_output_accuracy: 0.9475 - attrition_output_loss: 0.1389 - department_output_accuracy: 0.9081 - department_output_loss: 0.2638 - loss: 0.4026 - val_attrition_output_accuracy: 0.7421 - val_attrition_output_loss: 0.7785 - val_department_output_accuracy: 0.5520 - val_department_output_loss: 1.3142 - val_loss: 2.1066\n",
      "Epoch 50/100\n",
      "\u001b[1m28/28\u001b[0m \u001b[32m━━━━━━━━━━━━━━━━━━━━\u001b[0m\u001b[37m\u001b[0m \u001b[1m0s\u001b[0m 5ms/step - attrition_output_accuracy: 0.9560 - attrition_output_loss: 0.1246 - department_output_accuracy: 0.9427 - department_output_loss: 0.2196 - loss: 0.3440 - val_attrition_output_accuracy: 0.7873 - val_attrition_output_loss: 0.7706 - val_department_output_accuracy: 0.5566 - val_department_output_loss: 1.3228 - val_loss: 2.1070\n",
      "Epoch 51/100\n",
      "\u001b[1m28/28\u001b[0m \u001b[32m━━━━━━━━━━━━━━━━━━━━\u001b[0m\u001b[37m\u001b[0m \u001b[1m0s\u001b[0m 5ms/step - attrition_output_accuracy: 0.9600 - attrition_output_loss: 0.1113 - department_output_accuracy: 0.9268 - department_output_loss: 0.2388 - loss: 0.3502 - val_attrition_output_accuracy: 0.7602 - val_attrition_output_loss: 0.7897 - val_department_output_accuracy: 0.5973 - val_department_output_loss: 1.3299 - val_loss: 2.1343\n",
      "Epoch 52/100\n",
      "\u001b[1m28/28\u001b[0m \u001b[32m━━━━━━━━━━━━━━━━━━━━\u001b[0m\u001b[37m\u001b[0m \u001b[1m0s\u001b[0m 5ms/step - attrition_output_accuracy: 0.9522 - attrition_output_loss: 0.1243 - department_output_accuracy: 0.9371 - department_output_loss: 0.2159 - loss: 0.3403 - val_attrition_output_accuracy: 0.7557 - val_attrition_output_loss: 0.8352 - val_department_output_accuracy: 0.5611 - val_department_output_loss: 1.3775 - val_loss: 2.2274\n",
      "Epoch 53/100\n",
      "\u001b[1m28/28\u001b[0m \u001b[32m━━━━━━━━━━━━━━━━━━━━\u001b[0m\u001b[37m\u001b[0m \u001b[1m0s\u001b[0m 6ms/step - attrition_output_accuracy: 0.9705 - attrition_output_loss: 0.1020 - department_output_accuracy: 0.9472 - department_output_loss: 0.2000 - loss: 0.3018 - val_attrition_output_accuracy: 0.7692 - val_attrition_output_loss: 0.8540 - val_department_output_accuracy: 0.5792 - val_department_output_loss: 1.3789 - val_loss: 2.2483\n",
      "Epoch 54/100\n",
      "\u001b[1m28/28\u001b[0m \u001b[32m━━━━━━━━━━━━━━━━━━━━\u001b[0m\u001b[37m\u001b[0m \u001b[1m0s\u001b[0m 6ms/step - attrition_output_accuracy: 0.9760 - attrition_output_loss: 0.0951 - department_output_accuracy: 0.9400 - department_output_loss: 0.1983 - loss: 0.2933 - val_attrition_output_accuracy: 0.7602 - val_attrition_output_loss: 0.8280 - val_department_output_accuracy: 0.5158 - val_department_output_loss: 1.4934 - val_loss: 2.3347\n",
      "Epoch 55/100\n",
      "\u001b[1m28/28\u001b[0m \u001b[32m━━━━━━━━━━━━━━━━━━━━\u001b[0m\u001b[37m\u001b[0m \u001b[1m0s\u001b[0m 5ms/step - attrition_output_accuracy: 0.9802 - attrition_output_loss: 0.0855 - department_output_accuracy: 0.9451 - department_output_loss: 0.2037 - loss: 0.2891 - val_attrition_output_accuracy: 0.7511 - val_attrition_output_loss: 0.8605 - val_department_output_accuracy: 0.5158 - val_department_output_loss: 1.5436 - val_loss: 2.4173\n",
      "Epoch 56/100\n",
      "\u001b[1m28/28\u001b[0m \u001b[32m━━━━━━━━━━━━━━━━━━━━\u001b[0m\u001b[37m\u001b[0m \u001b[1m0s\u001b[0m 5ms/step - attrition_output_accuracy: 0.9684 - attrition_output_loss: 0.0931 - department_output_accuracy: 0.9547 - department_output_loss: 0.1796 - loss: 0.2727 - val_attrition_output_accuracy: 0.7692 - val_attrition_output_loss: 0.8505 - val_department_output_accuracy: 0.5747 - val_department_output_loss: 1.4247 - val_loss: 2.2913\n",
      "Epoch 57/100\n",
      "\u001b[1m28/28\u001b[0m \u001b[32m━━━━━━━━━━━━━━━━━━━━\u001b[0m\u001b[37m\u001b[0m \u001b[1m0s\u001b[0m 5ms/step - attrition_output_accuracy: 0.9765 - attrition_output_loss: 0.0881 - department_output_accuracy: 0.9709 - department_output_loss: 0.1592 - loss: 0.2475 - val_attrition_output_accuracy: 0.7421 - val_attrition_output_loss: 0.9160 - val_department_output_accuracy: 0.5701 - val_department_output_loss: 1.4645 - val_loss: 2.3969\n",
      "Epoch 58/100\n",
      "\u001b[1m28/28\u001b[0m \u001b[32m━━━━━━━━━━━━━━━━━━━━\u001b[0m\u001b[37m\u001b[0m \u001b[1m0s\u001b[0m 5ms/step - attrition_output_accuracy: 0.9686 - attrition_output_loss: 0.0954 - department_output_accuracy: 0.9736 - department_output_loss: 0.1663 - loss: 0.2617 - val_attrition_output_accuracy: 0.7511 - val_attrition_output_loss: 0.9288 - val_department_output_accuracy: 0.5430 - val_department_output_loss: 1.4986 - val_loss: 2.4452\n",
      "Epoch 59/100\n",
      "\u001b[1m28/28\u001b[0m \u001b[32m━━━━━━━━━━━━━━━━━━━━\u001b[0m\u001b[37m\u001b[0m \u001b[1m0s\u001b[0m 5ms/step - attrition_output_accuracy: 0.9761 - attrition_output_loss: 0.0765 - department_output_accuracy: 0.9720 - department_output_loss: 0.1505 - loss: 0.2270 - val_attrition_output_accuracy: 0.7195 - val_attrition_output_loss: 0.9596 - val_department_output_accuracy: 0.5294 - val_department_output_loss: 1.5585 - val_loss: 2.5340\n",
      "Epoch 60/100\n",
      "\u001b[1m28/28\u001b[0m \u001b[32m━━━━━━━━━━━━━━━━━━━━\u001b[0m\u001b[37m\u001b[0m \u001b[1m0s\u001b[0m 6ms/step - attrition_output_accuracy: 0.9717 - attrition_output_loss: 0.0933 - department_output_accuracy: 0.9615 - department_output_loss: 0.1507 - loss: 0.2441 - val_attrition_output_accuracy: 0.7873 - val_attrition_output_loss: 0.9441 - val_department_output_accuracy: 0.5792 - val_department_output_loss: 1.5237 - val_loss: 2.4875\n",
      "Epoch 61/100\n",
      "\u001b[1m28/28\u001b[0m \u001b[32m━━━━━━━━━━━━━━━━━━━━\u001b[0m\u001b[37m\u001b[0m \u001b[1m0s\u001b[0m 6ms/step - attrition_output_accuracy: 0.9731 - attrition_output_loss: 0.0839 - department_output_accuracy: 0.9723 - department_output_loss: 0.1417 - loss: 0.2257 - val_attrition_output_accuracy: 0.7240 - val_attrition_output_loss: 0.9500 - val_department_output_accuracy: 0.5928 - val_department_output_loss: 1.5483 - val_loss: 2.5156\n",
      "Epoch 62/100\n",
      "\u001b[1m28/28\u001b[0m \u001b[32m━━━━━━━━━━━━━━━━━━━━\u001b[0m\u001b[37m\u001b[0m \u001b[1m0s\u001b[0m 5ms/step - attrition_output_accuracy: 0.9580 - attrition_output_loss: 0.0977 - department_output_accuracy: 0.9801 - department_output_loss: 0.1180 - loss: 0.2158 - val_attrition_output_accuracy: 0.7738 - val_attrition_output_loss: 0.9198 - val_department_output_accuracy: 0.5973 - val_department_output_loss: 1.6107 - val_loss: 2.5486\n",
      "Epoch 63/100\n",
      "\u001b[1m28/28\u001b[0m \u001b[32m━━━━━━━━━━━━━━━━━━━━\u001b[0m\u001b[37m\u001b[0m \u001b[1m0s\u001b[0m 5ms/step - attrition_output_accuracy: 0.9760 - attrition_output_loss: 0.0793 - department_output_accuracy: 0.9620 - department_output_loss: 0.1299 - loss: 0.2091 - val_attrition_output_accuracy: 0.7602 - val_attrition_output_loss: 0.9845 - val_department_output_accuracy: 0.5158 - val_department_output_loss: 1.7120 - val_loss: 2.7141\n",
      "Epoch 64/100\n",
      "\u001b[1m28/28\u001b[0m \u001b[32m━━━━━━━━━━━━━━━━━━━━\u001b[0m\u001b[37m\u001b[0m \u001b[1m0s\u001b[0m 5ms/step - attrition_output_accuracy: 0.9763 - attrition_output_loss: 0.0716 - department_output_accuracy: 0.9751 - department_output_loss: 0.1373 - loss: 0.2089 - val_attrition_output_accuracy: 0.7511 - val_attrition_output_loss: 0.9947 - val_department_output_accuracy: 0.5204 - val_department_output_loss: 1.7081 - val_loss: 2.7205\n",
      "Epoch 65/100\n",
      "\u001b[1m28/28\u001b[0m \u001b[32m━━━━━━━━━━━━━━━━━━━━\u001b[0m\u001b[37m\u001b[0m \u001b[1m0s\u001b[0m 5ms/step - attrition_output_accuracy: 0.9804 - attrition_output_loss: 0.0611 - department_output_accuracy: 0.9626 - department_output_loss: 0.1305 - loss: 0.1918 - val_attrition_output_accuracy: 0.7285 - val_attrition_output_loss: 1.0456 - val_department_output_accuracy: 0.5611 - val_department_output_loss: 1.6731 - val_loss: 2.7375\n",
      "Epoch 66/100\n",
      "\u001b[1m28/28\u001b[0m \u001b[32m━━━━━━━━━━━━━━━━━━━━\u001b[0m\u001b[37m\u001b[0m \u001b[1m0s\u001b[0m 5ms/step - attrition_output_accuracy: 0.9915 - attrition_output_loss: 0.0542 - department_output_accuracy: 0.9819 - department_output_loss: 0.1116 - loss: 0.1658 - val_attrition_output_accuracy: 0.7285 - val_attrition_output_loss: 1.0180 - val_department_output_accuracy: 0.5973 - val_department_output_loss: 1.7297 - val_loss: 2.7658\n",
      "Epoch 67/100\n",
      "\u001b[1m28/28\u001b[0m \u001b[32m━━━━━━━━━━━━━━━━━━━━\u001b[0m\u001b[37m\u001b[0m \u001b[1m0s\u001b[0m 5ms/step - attrition_output_accuracy: 0.9834 - attrition_output_loss: 0.0651 - department_output_accuracy: 0.9750 - department_output_loss: 0.1164 - loss: 0.1816 - val_attrition_output_accuracy: 0.7511 - val_attrition_output_loss: 1.0500 - val_department_output_accuracy: 0.5747 - val_department_output_loss: 1.7448 - val_loss: 2.8137\n",
      "Epoch 68/100\n",
      "\u001b[1m28/28\u001b[0m \u001b[32m━━━━━━━━━━━━━━━━━━━━\u001b[0m\u001b[37m\u001b[0m \u001b[1m0s\u001b[0m 7ms/step - attrition_output_accuracy: 0.9805 - attrition_output_loss: 0.0645 - department_output_accuracy: 0.9776 - department_output_loss: 0.1083 - loss: 0.1728 - val_attrition_output_accuracy: 0.7195 - val_attrition_output_loss: 1.1061 - val_department_output_accuracy: 0.5520 - val_department_output_loss: 1.7404 - val_loss: 2.8648\n",
      "Epoch 69/100\n",
      "\u001b[1m28/28\u001b[0m \u001b[32m━━━━━━━━━━━━━━━━━━━━\u001b[0m\u001b[37m\u001b[0m \u001b[1m0s\u001b[0m 5ms/step - attrition_output_accuracy: 0.9872 - attrition_output_loss: 0.0559 - department_output_accuracy: 0.9849 - department_output_loss: 0.1013 - loss: 0.1571 - val_attrition_output_accuracy: 0.7195 - val_attrition_output_loss: 1.1078 - val_department_output_accuracy: 0.5701 - val_department_output_loss: 1.7538 - val_loss: 2.8819\n",
      "Epoch 70/100\n",
      "\u001b[1m28/28\u001b[0m \u001b[32m━━━━━━━━━━━━━━━━━━━━\u001b[0m\u001b[37m\u001b[0m \u001b[1m0s\u001b[0m 5ms/step - attrition_output_accuracy: 0.9822 - attrition_output_loss: 0.0568 - department_output_accuracy: 0.9857 - department_output_loss: 0.0918 - loss: 0.1486 - val_attrition_output_accuracy: 0.7421 - val_attrition_output_loss: 1.0621 - val_department_output_accuracy: 0.5204 - val_department_output_loss: 1.8914 - val_loss: 2.9711\n",
      "Epoch 71/100\n",
      "\u001b[1m28/28\u001b[0m \u001b[32m━━━━━━━━━━━━━━━━━━━━\u001b[0m\u001b[37m\u001b[0m \u001b[1m0s\u001b[0m 5ms/step - attrition_output_accuracy: 0.9852 - attrition_output_loss: 0.0516 - department_output_accuracy: 0.9824 - department_output_loss: 0.0925 - loss: 0.1440 - val_attrition_output_accuracy: 0.7376 - val_attrition_output_loss: 1.0919 - val_department_output_accuracy: 0.5566 - val_department_output_loss: 1.7952 - val_loss: 2.9074\n",
      "Epoch 72/100\n",
      "\u001b[1m28/28\u001b[0m \u001b[32m━━━━━━━━━━━━━━━━━━━━\u001b[0m\u001b[37m\u001b[0m \u001b[1m0s\u001b[0m 5ms/step - attrition_output_accuracy: 0.9862 - attrition_output_loss: 0.0460 - department_output_accuracy: 0.9863 - department_output_loss: 0.0857 - loss: 0.1316 - val_attrition_output_accuracy: 0.7330 - val_attrition_output_loss: 1.1858 - val_department_output_accuracy: 0.5656 - val_department_output_loss: 1.8128 - val_loss: 3.0195\n",
      "Epoch 73/100\n",
      "\u001b[1m28/28\u001b[0m \u001b[32m━━━━━━━━━━━━━━━━━━━━\u001b[0m\u001b[37m\u001b[0m \u001b[1m0s\u001b[0m 5ms/step - attrition_output_accuracy: 0.9911 - attrition_output_loss: 0.0390 - department_output_accuracy: 0.9848 - department_output_loss: 0.0955 - loss: 0.1345 - val_attrition_output_accuracy: 0.7466 - val_attrition_output_loss: 1.0905 - val_department_output_accuracy: 0.5882 - val_department_output_loss: 1.8423 - val_loss: 2.9517\n",
      "Epoch 74/100\n",
      "\u001b[1m28/28\u001b[0m \u001b[32m━━━━━━━━━━━━━━━━━━━━\u001b[0m\u001b[37m\u001b[0m \u001b[1m0s\u001b[0m 5ms/step - attrition_output_accuracy: 0.9881 - attrition_output_loss: 0.0556 - department_output_accuracy: 0.9858 - department_output_loss: 0.0930 - loss: 0.1485 - val_attrition_output_accuracy: 0.7466 - val_attrition_output_loss: 1.1010 - val_department_output_accuracy: 0.5475 - val_department_output_loss: 1.9388 - val_loss: 3.0617\n",
      "Epoch 75/100\n",
      "\u001b[1m28/28\u001b[0m \u001b[32m━━━━━━━━━━━━━━━━━━━━\u001b[0m\u001b[37m\u001b[0m \u001b[1m0s\u001b[0m 5ms/step - attrition_output_accuracy: 0.9845 - attrition_output_loss: 0.0493 - department_output_accuracy: 0.9913 - department_output_loss: 0.0734 - loss: 0.1226 - val_attrition_output_accuracy: 0.7376 - val_attrition_output_loss: 1.1653 - val_department_output_accuracy: 0.5701 - val_department_output_loss: 1.9430 - val_loss: 3.1297\n",
      "Epoch 76/100\n",
      "\u001b[1m28/28\u001b[0m \u001b[32m━━━━━━━━━━━━━━━━━━━━\u001b[0m\u001b[37m\u001b[0m \u001b[1m0s\u001b[0m 6ms/step - attrition_output_accuracy: 0.9933 - attrition_output_loss: 0.0408 - department_output_accuracy: 0.9926 - department_output_loss: 0.0721 - loss: 0.1129 - val_attrition_output_accuracy: 0.7376 - val_attrition_output_loss: 1.1745 - val_department_output_accuracy: 0.5294 - val_department_output_loss: 2.0769 - val_loss: 3.2713\n",
      "Epoch 77/100\n",
      "\u001b[1m28/28\u001b[0m \u001b[32m━━━━━━━━━━━━━━━━━━━━\u001b[0m\u001b[37m\u001b[0m \u001b[1m0s\u001b[0m 5ms/step - attrition_output_accuracy: 0.9931 - attrition_output_loss: 0.0360 - department_output_accuracy: 0.9866 - department_output_loss: 0.0783 - loss: 0.1143 - val_attrition_output_accuracy: 0.7602 - val_attrition_output_loss: 1.1122 - val_department_output_accuracy: 0.5656 - val_department_output_loss: 1.9828 - val_loss: 3.1184\n",
      "Epoch 78/100\n",
      "\u001b[1m28/28\u001b[0m \u001b[32m━━━━━━━━━━━━━━━━━━━━\u001b[0m\u001b[37m\u001b[0m \u001b[1m0s\u001b[0m 5ms/step - attrition_output_accuracy: 0.9881 - attrition_output_loss: 0.0425 - department_output_accuracy: 0.9934 - department_output_loss: 0.0679 - loss: 0.1104 - val_attrition_output_accuracy: 0.7376 - val_attrition_output_loss: 1.2569 - val_department_output_accuracy: 0.5430 - val_department_output_loss: 2.0421 - val_loss: 3.3209\n",
      "Epoch 79/100\n",
      "\u001b[1m28/28\u001b[0m \u001b[32m━━━━━━━━━━━━━━━━━━━━\u001b[0m\u001b[37m\u001b[0m \u001b[1m0s\u001b[0m 5ms/step - attrition_output_accuracy: 0.9868 - attrition_output_loss: 0.0410 - department_output_accuracy: 0.9965 - department_output_loss: 0.0617 - loss: 0.1026 - val_attrition_output_accuracy: 0.7059 - val_attrition_output_loss: 1.3309 - val_department_output_accuracy: 0.5385 - val_department_output_loss: 2.2015 - val_loss: 3.5551\n",
      "Epoch 80/100\n",
      "\u001b[1m28/28\u001b[0m \u001b[32m━━━━━━━━━━━━━━━━━━━━\u001b[0m\u001b[37m\u001b[0m \u001b[1m0s\u001b[0m 5ms/step - attrition_output_accuracy: 0.9920 - attrition_output_loss: 0.0397 - department_output_accuracy: 0.9858 - department_output_loss: 0.0693 - loss: 0.1088 - val_attrition_output_accuracy: 0.7647 - val_attrition_output_loss: 1.2483 - val_department_output_accuracy: 0.5928 - val_department_output_loss: 2.0112 - val_loss: 3.2862\n",
      "Epoch 81/100\n",
      "\u001b[1m28/28\u001b[0m \u001b[32m━━━━━━━━━━━━━━━━━━━━\u001b[0m\u001b[37m\u001b[0m \u001b[1m0s\u001b[0m 5ms/step - attrition_output_accuracy: 0.9977 - attrition_output_loss: 0.0299 - department_output_accuracy: 0.9903 - department_output_loss: 0.0731 - loss: 0.1029 - val_attrition_output_accuracy: 0.7466 - val_attrition_output_loss: 1.1947 - val_department_output_accuracy: 0.5385 - val_department_output_loss: 2.1063 - val_loss: 3.3233\n",
      "Epoch 82/100\n",
      "\u001b[1m28/28\u001b[0m \u001b[32m━━━━━━━━━━━━━━━━━━━━\u001b[0m\u001b[37m\u001b[0m \u001b[1m0s\u001b[0m 5ms/step - attrition_output_accuracy: 0.9957 - attrition_output_loss: 0.0334 - department_output_accuracy: 0.9945 - department_output_loss: 0.0630 - loss: 0.0964 - val_attrition_output_accuracy: 0.7602 - val_attrition_output_loss: 1.2599 - val_department_output_accuracy: 0.5973 - val_department_output_loss: 2.0830 - val_loss: 3.3695\n",
      "Epoch 83/100\n",
      "\u001b[1m28/28\u001b[0m \u001b[32m━━━━━━━━━━━━━━━━━━━━\u001b[0m\u001b[37m\u001b[0m \u001b[1m0s\u001b[0m 6ms/step - attrition_output_accuracy: 0.9960 - attrition_output_loss: 0.0294 - department_output_accuracy: 0.9955 - department_output_loss: 0.0534 - loss: 0.0828 - val_attrition_output_accuracy: 0.7557 - val_attrition_output_loss: 1.2497 - val_department_output_accuracy: 0.5520 - val_department_output_loss: 2.1440 - val_loss: 3.4168\n",
      "Epoch 84/100\n",
      "\u001b[1m28/28\u001b[0m \u001b[32m━━━━━━━━━━━━━━━━━━━━\u001b[0m\u001b[37m\u001b[0m \u001b[1m0s\u001b[0m 5ms/step - attrition_output_accuracy: 0.9990 - attrition_output_loss: 0.0237 - department_output_accuracy: 0.9948 - department_output_loss: 0.0489 - loss: 0.0725 - val_attrition_output_accuracy: 0.7421 - val_attrition_output_loss: 1.2869 - val_department_output_accuracy: 0.5475 - val_department_output_loss: 2.2473 - val_loss: 3.5582\n",
      "Epoch 85/100\n",
      "\u001b[1m28/28\u001b[0m \u001b[32m━━━━━━━━━━━━━━━━━━━━\u001b[0m\u001b[37m\u001b[0m \u001b[1m0s\u001b[0m 5ms/step - attrition_output_accuracy: 0.9947 - attrition_output_loss: 0.0338 - department_output_accuracy: 0.9906 - department_output_loss: 0.0594 - loss: 0.0928 - val_attrition_output_accuracy: 0.7511 - val_attrition_output_loss: 1.3236 - val_department_output_accuracy: 0.5747 - val_department_output_loss: 2.1339 - val_loss: 3.4825\n",
      "Epoch 86/100\n",
      "\u001b[1m28/28\u001b[0m \u001b[32m━━━━━━━━━━━━━━━━━━━━\u001b[0m\u001b[37m\u001b[0m \u001b[1m0s\u001b[0m 5ms/step - attrition_output_accuracy: 0.9939 - attrition_output_loss: 0.0309 - department_output_accuracy: 0.9918 - department_output_loss: 0.0645 - loss: 0.0954 - val_attrition_output_accuracy: 0.7330 - val_attrition_output_loss: 1.3373 - val_department_output_accuracy: 0.5837 - val_department_output_loss: 2.2581 - val_loss: 3.6238\n",
      "Epoch 87/100\n",
      "\u001b[1m28/28\u001b[0m \u001b[32m━━━━━━━━━━━━━━━━━━━━\u001b[0m\u001b[37m\u001b[0m \u001b[1m0s\u001b[0m 5ms/step - attrition_output_accuracy: 0.9911 - attrition_output_loss: 0.0283 - department_output_accuracy: 0.9888 - department_output_loss: 0.0580 - loss: 0.0862 - val_attrition_output_accuracy: 0.6968 - val_attrition_output_loss: 1.3467 - val_department_output_accuracy: 0.5611 - val_department_output_loss: 2.2710 - val_loss: 3.6418\n",
      "Epoch 88/100\n",
      "\u001b[1m28/28\u001b[0m \u001b[32m━━━━━━━━━━━━━━━━━━━━\u001b[0m\u001b[37m\u001b[0m \u001b[1m0s\u001b[0m 5ms/step - attrition_output_accuracy: 0.9963 - attrition_output_loss: 0.0245 - department_output_accuracy: 0.9962 - department_output_loss: 0.0433 - loss: 0.0678 - val_attrition_output_accuracy: 0.7376 - val_attrition_output_loss: 1.3547 - val_department_output_accuracy: 0.5475 - val_department_output_loss: 2.3278 - val_loss: 3.7068\n",
      "Epoch 89/100\n",
      "\u001b[1m28/28\u001b[0m \u001b[32m━━━━━━━━━━━━━━━━━━━━\u001b[0m\u001b[37m\u001b[0m \u001b[1m0s\u001b[0m 5ms/step - attrition_output_accuracy: 0.9980 - attrition_output_loss: 0.0215 - department_output_accuracy: 0.9983 - department_output_loss: 0.0394 - loss: 0.0609 - val_attrition_output_accuracy: 0.7421 - val_attrition_output_loss: 1.3751 - val_department_output_accuracy: 0.5566 - val_department_output_loss: 2.3402 - val_loss: 3.7444\n",
      "Epoch 90/100\n",
      "\u001b[1m28/28\u001b[0m \u001b[32m━━━━━━━━━━━━━━━━━━━━\u001b[0m\u001b[37m\u001b[0m \u001b[1m0s\u001b[0m 6ms/step - attrition_output_accuracy: 0.9992 - attrition_output_loss: 0.0231 - department_output_accuracy: 0.9885 - department_output_loss: 0.0447 - loss: 0.0677 - val_attrition_output_accuracy: 0.7330 - val_attrition_output_loss: 1.3999 - val_department_output_accuracy: 0.4977 - val_department_output_loss: 2.4470 - val_loss: 3.8701\n",
      "Epoch 91/100\n",
      "\u001b[1m28/28\u001b[0m \u001b[32m━━━━━━━━━━━━━━━━━━━━\u001b[0m\u001b[37m\u001b[0m \u001b[1m0s\u001b[0m 5ms/step - attrition_output_accuracy: 0.9979 - attrition_output_loss: 0.0182 - department_output_accuracy: 0.9971 - department_output_loss: 0.0402 - loss: 0.0583 - val_attrition_output_accuracy: 0.7376 - val_attrition_output_loss: 1.3703 - val_department_output_accuracy: 0.5294 - val_department_output_loss: 2.3468 - val_loss: 3.7421\n",
      "Epoch 92/100\n",
      "\u001b[1m28/28\u001b[0m \u001b[32m━━━━━━━━━━━━━━━━━━━━\u001b[0m\u001b[37m\u001b[0m \u001b[1m0s\u001b[0m 6ms/step - attrition_output_accuracy: 0.9978 - attrition_output_loss: 0.0195 - department_output_accuracy: 0.9921 - department_output_loss: 0.0402 - loss: 0.0596 - val_attrition_output_accuracy: 0.7421 - val_attrition_output_loss: 1.4405 - val_department_output_accuracy: 0.5430 - val_department_output_loss: 2.4388 - val_loss: 3.9022\n",
      "Epoch 93/100\n",
      "\u001b[1m28/28\u001b[0m \u001b[32m━━━━━━━━━━━━━━━━━━━━\u001b[0m\u001b[37m\u001b[0m \u001b[1m0s\u001b[0m 5ms/step - attrition_output_accuracy: 0.9985 - attrition_output_loss: 0.0189 - department_output_accuracy: 0.9962 - department_output_loss: 0.0406 - loss: 0.0595 - val_attrition_output_accuracy: 0.7376 - val_attrition_output_loss: 1.4262 - val_department_output_accuracy: 0.5792 - val_department_output_loss: 2.3375 - val_loss: 3.7904\n",
      "Epoch 94/100\n",
      "\u001b[1m28/28\u001b[0m \u001b[32m━━━━━━━━━━━━━━━━━━━━\u001b[0m\u001b[37m\u001b[0m \u001b[1m0s\u001b[0m 5ms/step - attrition_output_accuracy: 0.9982 - attrition_output_loss: 0.0184 - department_output_accuracy: 0.9978 - department_output_loss: 0.0381 - loss: 0.0566 - val_attrition_output_accuracy: 0.7285 - val_attrition_output_loss: 1.4833 - val_department_output_accuracy: 0.5385 - val_department_output_loss: 2.5034 - val_loss: 4.0136\n",
      "Epoch 95/100\n",
      "\u001b[1m28/28\u001b[0m \u001b[32m━━━━━━━━━━━━━━━━━━━━\u001b[0m\u001b[37m\u001b[0m \u001b[1m0s\u001b[0m 5ms/step - attrition_output_accuracy: 0.9981 - attrition_output_loss: 0.0183 - department_output_accuracy: 0.9990 - department_output_loss: 0.0330 - loss: 0.0513 - val_attrition_output_accuracy: 0.7240 - val_attrition_output_loss: 1.4743 - val_department_output_accuracy: 0.5475 - val_department_output_loss: 2.4066 - val_loss: 3.9058\n",
      "Epoch 96/100\n",
      "\u001b[1m28/28\u001b[0m \u001b[32m━━━━━━━━━━━━━━━━━━━━\u001b[0m\u001b[37m\u001b[0m \u001b[1m0s\u001b[0m 5ms/step - attrition_output_accuracy: 0.9982 - attrition_output_loss: 0.0218 - department_output_accuracy: 0.9937 - department_output_loss: 0.0356 - loss: 0.0573 - val_attrition_output_accuracy: 0.7330 - val_attrition_output_loss: 1.4989 - val_department_output_accuracy: 0.5204 - val_department_output_loss: 2.5678 - val_loss: 4.0941\n",
      "Epoch 97/100\n",
      "\u001b[1m28/28\u001b[0m \u001b[32m━━━━━━━━━━━━━━━━━━━━\u001b[0m\u001b[37m\u001b[0m \u001b[1m0s\u001b[0m 6ms/step - attrition_output_accuracy: 0.9974 - attrition_output_loss: 0.0185 - department_output_accuracy: 0.9984 - department_output_loss: 0.0296 - loss: 0.0482 - val_attrition_output_accuracy: 0.7330 - val_attrition_output_loss: 1.5163 - val_department_output_accuracy: 0.5566 - val_department_output_loss: 2.4904 - val_loss: 4.0328\n",
      "Epoch 98/100\n",
      "\u001b[1m28/28\u001b[0m \u001b[32m━━━━━━━━━━━━━━━━━━━━\u001b[0m\u001b[37m\u001b[0m \u001b[1m0s\u001b[0m 5ms/step - attrition_output_accuracy: 0.9973 - attrition_output_loss: 0.0175 - department_output_accuracy: 0.9973 - department_output_loss: 0.0276 - loss: 0.0450 - val_attrition_output_accuracy: 0.7330 - val_attrition_output_loss: 1.4839 - val_department_output_accuracy: 0.5430 - val_department_output_loss: 2.5194 - val_loss: 4.0316\n",
      "Epoch 99/100\n",
      "\u001b[1m28/28\u001b[0m \u001b[32m━━━━━━━━━━━━━━━━━━━━\u001b[0m\u001b[37m\u001b[0m \u001b[1m0s\u001b[0m 5ms/step - attrition_output_accuracy: 0.9998 - attrition_output_loss: 0.0138 - department_output_accuracy: 0.9997 - department_output_loss: 0.0287 - loss: 0.0425 - val_attrition_output_accuracy: 0.7421 - val_attrition_output_loss: 1.5013 - val_department_output_accuracy: 0.5430 - val_department_output_loss: 2.5711 - val_loss: 4.0999\n",
      "Epoch 100/100\n",
      "\u001b[1m28/28\u001b[0m \u001b[32m━━━━━━━━━━━━━━━━━━━━\u001b[0m\u001b[37m\u001b[0m \u001b[1m0s\u001b[0m 6ms/step - attrition_output_accuracy: 0.9995 - attrition_output_loss: 0.0137 - department_output_accuracy: 0.9992 - department_output_loss: 0.0263 - loss: 0.0400 - val_attrition_output_accuracy: 0.7421 - val_attrition_output_loss: 1.5679 - val_department_output_accuracy: 0.5747 - val_department_output_loss: 2.4790 - val_loss: 4.0761\n"
     ]
    },
    {
     "data": {
      "text/plain": [
       "<keras.src.callbacks.history.History at 0x20643bac0d0>"
      ]
     },
     "execution_count": 33,
     "metadata": {},
     "output_type": "execute_result"
    }
   ],
   "source": [
    "# Train the model\n",
    "model.fit(\n",
    "    X_train_scaled,\n",
    "    {'department_output': y_train_encoded_dept,\n",
    "      'attrition_output': y_train[['Attrition']].values == 'Yes'},\n",
    "      epochs=100,\n",
    "      batch_size=32,\n",
    "      validation_split=0.2\n",
    ")"
   ]
  },
  {
   "cell_type": "code",
   "execution_count": 34,
   "metadata": {
    "colab": {
     "base_uri": "https://localhost:8080/"
    },
    "executionInfo": {
     "elapsed": 379,
     "status": "ok",
     "timestamp": 1730699259894,
     "user": {
      "displayName": "Alexander Booth",
      "userId": "02269714993535573104"
     },
     "user_tz": 360
    },
    "id": "VsMoaQlgGc3U",
    "outputId": "636c85ba-ee63-4087-b7d1-00b408f1055a"
   },
   "outputs": [
    {
     "name": "stdout",
     "output_type": "stream",
     "text": [
      "\u001b[1m12/12\u001b[0m \u001b[32m━━━━━━━━━━━━━━━━━━━━\u001b[0m\u001b[37m\u001b[0m \u001b[1m0s\u001b[0m 4ms/step - attrition_output_accuracy: 0.8010 - attrition_output_loss: 0.9774 - department_output_accuracy: 0.5547 - department_output_loss: 2.4590 - loss: 3.4350 \n"
     ]
    },
    {
     "data": {
      "text/plain": [
       "[4.008059501647949,\n",
       " 2.7059175968170166,\n",
       " 1.3114097118377686,\n",
       " 0.779891312122345,\n",
       " 0.5597826242446899]"
      ]
     },
     "execution_count": 34,
     "metadata": {},
     "output_type": "execute_result"
    }
   ],
   "source": [
    "# Evaluate the model with the testing data\n",
    "test_results = model.evaluate(X_test_scaled,\n",
    "                              {'department_output': y_test_encoded_dept,\n",
    "                               'attrition_output': y_test[['Attrition']].values == 'Yes'})\n",
    "test_results"
   ]
  },
  {
   "cell_type": "code",
   "execution_count": 36,
   "metadata": {
    "colab": {
     "base_uri": "https://localhost:8080/"
    },
    "executionInfo": {
     "elapsed": 113,
     "status": "ok",
     "timestamp": 1730699260004,
     "user": {
      "displayName": "Alexander Booth",
      "userId": "02269714993535573104"
     },
     "user_tz": 360
    },
    "id": "ZlCtlHi0Vt54",
    "outputId": "3a32435c-11cf-48da-81b5-1431d6c00da2"
   },
   "outputs": [
    {
     "name": "stdout",
     "output_type": "stream",
     "text": [
      "Attrition predictions accuracy: 0.7799\n",
      "Department predictions accuracy: 0.5598\n"
     ]
    }
   ],
   "source": [
    "# Print the accuracy for both department and attrition\n",
    "print(f\"Attrition predictions accuracy: {test_results[3]:.4f}\")\n",
    "print(f\"Department predictions accuracy: {test_results[4]:.4f}\")"
   ]
  },
  {
   "cell_type": "markdown",
   "metadata": {
    "id": "eGSyfsZfWOQM"
   },
   "source": [
    "# Summary\n",
    "\n",
    "In the provided space below, briefly answer the following questions.\n",
    "\n",
    "1. Is accuracy the best metric to use on this data? Why or why not?\n",
    "\n",
    "2. What activation functions did you choose for your output layers, and why?\n",
    "\n",
    "3. Can you name a few ways that this model might be improved?"
   ]
  },
  {
   "cell_type": "markdown",
   "metadata": {
    "id": "pi9SLpFnWvbF"
   },
   "source": [
    "YOUR ANSWERS HERE\n",
    "\n",
    "1. Accuracy might not be the best metrics because the predictions scores appear to be very low percentage.\n",
    "2. I used relu for the department because there were a wide range of departments. I used sigmoid for the attrition because it was a binary choice\n",
    "3. I would probably use more elements because there seems to be a lot of factors as to why someone might leave or need to be moved."
   ]
  },
  {
   "cell_type": "code",
   "execution_count": 17,
   "metadata": {
    "executionInfo": {
     "elapsed": 3,
     "status": "ok",
     "timestamp": 1730699260004,
     "user": {
      "displayName": "Alexander Booth",
      "userId": "02269714993535573104"
     },
     "user_tz": 360
    },
    "id": "ZuQWjGgGXZ3C"
   },
   "outputs": [],
   "source": []
  }
 ],
 "metadata": {
  "colab": {
   "provenance": []
  },
  "kernelspec": {
   "display_name": "dev",
   "language": "python",
   "name": "python3"
  },
  "language_info": {
   "codemirror_mode": {
    "name": "ipython",
    "version": 3
   },
   "file_extension": ".py",
   "mimetype": "text/x-python",
   "name": "python",
   "nbconvert_exporter": "python",
   "pygments_lexer": "ipython3",
   "version": "3.10.15"
  }
 },
 "nbformat": 4,
 "nbformat_minor": 0
}
